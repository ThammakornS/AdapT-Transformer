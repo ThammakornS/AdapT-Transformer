{
 "cells": [
  {
   "cell_type": "markdown",
   "id": "04dd981f",
   "metadata": {},
   "source": [
    "### warning: test phase, no guarantee"
   ]
  },
  {
   "cell_type": "markdown",
   "id": "feac8d1b",
   "metadata": {},
   "source": [
    "Generate Sample Data:"
   ]
  },
  {
   "cell_type": "code",
   "execution_count": 1,
   "id": "7dbd25a7",
   "metadata": {},
   "outputs": [
    {
     "data": {
      "image/png": "[encoded data removed]",
      "text/plain": [
       "<Figure size 640x480 with 1 Axes>"
      ]
     },
     "metadata": {},
     "output_type": "display_data"
    }
   ],
   "source": [
    "import numpy as np\n",
    "import matplotlib.pyplot as plt\n",
    "\n",
    "# Generate sine wave data\n",
    "t = np.arange(0, 1000, 0.1)\n",
    "data = np.sin(0.02 * t)\n",
    "\n",
    "# Plot\n",
    "plt.plot(data[:500])\n",
    "plt.title(\"Sine Wave Example Data\")\n",
    "plt.show()"
   ]
  },
  {
   "cell_type": "markdown",
   "id": "7cd46521",
   "metadata": {},
   "source": [
    "Prepare Windowed Dataset:"
   ]
  },
  {
   "cell_type": "code",
   "execution_count": 4,
   "id": "2bb0c9f5",
   "metadata": {},
   "outputs": [],
   "source": [
    "def create_dataset(series, window_size):\n",
    "    X, y = [], []\n",
    "    for i in range(len(series) - window_size):\n",
    "        X.append(series[i:i+window_size])\n",
    "        y.append(series[i+window_size])\n",
    "    return np.array(X), np.array(y)\n",
    "\n",
    "window_size = 50\n",
    "X, y = create_dataset(data, window_size)\n",
    "X = np.expand_dims(X, axis=-1)  # Add feature dimension\n",
    "\n",
    "# Train/test split\n",
    "split = int(0.8 * len(X))\n",
    "X_train, X_test = X[:split], X[split:]\n",
    "y_train, y_test = y[:split], y[split:]\n"
   ]
  },
  {
   "cell_type": "markdown",
   "id": "a2e35742",
   "metadata": {},
   "source": [
    "Transformer Block:"
   ]
  },
  {
   "cell_type": "code",
   "execution_count": 6,
   "id": "08fb15d8",
   "metadata": {},
   "outputs": [
    {
     "name": "stderr",
     "output_type": "stream",
     "text": [
      "ERROR: Could not find a version that satisfies the requirement tensorflow (from versions: none)\n",
      "ERROR: No matching distribution found for tensorflow\n"
     ]
    }
   ],
   "source": [
    "!pip install tensorflow"
   ]
  },
  {
   "cell_type": "code",
   "execution_count": 5,
   "id": "7ae1156b",
   "metadata": {},
   "outputs": [
    {
     "ename": "ModuleNotFoundError",
     "evalue": "No module named 'tensorflow'",
     "output_type": "error",
     "traceback": [
      "\u001b[1;31m---------------------------------------------------------------------------\u001b[0m",
      "\u001b[1;31mModuleNotFoundError\u001b[0m                       Traceback (most recent call last)",
      "Cell \u001b[1;32mIn[5], line 1\u001b[0m\n\u001b[1;32m----> 1\u001b[0m \u001b[38;5;28;01mfrom\u001b[39;00m \u001b[38;5;21;01mtensorflow\u001b[39;00m\u001b[38;5;21;01m.\u001b[39;00m\u001b[38;5;21;01mkeras\u001b[39;00m \u001b[38;5;28;01mimport\u001b[39;00m layers, models\n\u001b[0;32m      2\u001b[0m \u001b[38;5;28;01mimport\u001b[39;00m \u001b[38;5;21;01mtensorflow\u001b[39;00m \u001b[38;5;28;01mas\u001b[39;00m \u001b[38;5;21;01mtf\u001b[39;00m\n\u001b[0;32m      4\u001b[0m \u001b[38;5;28;01mclass\u001b[39;00m \u001b[38;5;21;01mTransformerBlock\u001b[39;00m(layers\u001b[38;5;241m.\u001b[39mLayer):\n",
      "\u001b[1;31mModuleNotFoundError\u001b[0m: No module named 'tensorflow'"
     ]
    }
   ],
   "source": [
    "from tensorflow.keras import layers, models\n",
    "import tensorflow as tf\n",
    "\n",
    "class TransformerBlock(layers.Layer):\n",
    "    def __init__(self, embed_dim, num_heads, ff_dim, rate=0.1):\n",
    "        super().__init__()\n",
    "\n",
    "        # ⚙️ Multi-Head Self-Attention layer\n",
    "        self.att = layers.MultiHeadAttention(num_heads=num_heads, key_dim=embed_dim)\n",
    "\n",
    "        # 🔁 Feedforward network (like a small MLP for each position)\n",
    "        self.ffn = tf.keras.Sequential([\n",
    "            layers.Dense(ff_dim, activation='relu'),\n",
    "            layers.Dense(embed_dim),  # Project back to original embedding size\n",
    "        ])\n",
    "\n",
    "        # 🧽 Normalization and regularization\n",
    "        self.layernorm1 = layers.LayerNormalization()\n",
    "        self.layernorm2 = layers.LayerNormalization()\n",
    "        self.dropout1 = layers.Dropout(rate)\n",
    "        self.dropout2 = layers.Dropout(rate)\n",
    "\n",
    "    def call(self, inputs, training):\n",
    "        # ⚡ Step 1: Self-Attention (this is where attention is actually applied)\n",
    "        # Inputs = [Batch, Time steps, Features]\n",
    "        attn_output = self.att(inputs, inputs)  # Q = K = V = inputs → self-attention\n",
    "\n",
    "        # Add & Normalize (residual connection + normalization)\n",
    "        attn_output = self.dropout1(attn_output, training=training)\n",
    "        out1 = self.layernorm1(inputs + attn_output)\n",
    "\n",
    "        # 🧠 Step 2: Feedforward transformation\n",
    "        ffn_output = self.ffn(out1)\n",
    "        ffn_output = self.dropout2(ffn_output, training=training)\n",
    "\n",
    "        # Add & Normalize again\n",
    "        return self.layernorm2(out1 + ffn_output)"
   ]
  },
  {
   "cell_type": "markdown",
   "id": "86deecf1",
   "metadata": {},
   "source": [
    "Full Model with Transformer Block:"
   ]
  },
  {
   "cell_type": "code",
   "execution_count": null,
   "id": "7f7da5da",
   "metadata": {},
   "outputs": [],
   "source": [
    "def build_transformer_model(input_shape):\n",
    "    inputs = layers.Input(shape=input_shape)  # Input shape: (window_size, 1)\n",
    "\n",
    "    # 🔡 Initial projection to higher dimension\n",
    "    x = layers.Dense(64)(inputs)\n",
    "\n",
    "    # 🔁 Transformer block — includes attention and feedforward layers\n",
    "    x = TransformerBlock(embed_dim=64, num_heads=2, ff_dim=128)(x)\n",
    "\n",
    "    # 📉 Collapse across time dimension\n",
    "    x = layers.GlobalAveragePooling1D()(x)\n",
    "\n",
    "    # 🔄 Final prediction layers\n",
    "    x = layers.Dropout(0.1)(x)\n",
    "    x = layers.Dense(32, activation='relu')(x)\n",
    "    x = layers.Dense(1)(x)  # Final prediction: a single value\n",
    "\n",
    "    return models.Model(inputs=inputs, outputs=x)"
   ]
  }
 ],
 "metadata": {
  "kernelspec": {
   "display_name": "pstat13",
   "language": "python",
   "name": "python3"
  },
  "language_info": {
   "codemirror_mode": {
    "name": "ipython",
    "version": 3
   },
   "file_extension": ".py",
   "mimetype": "text/x-python",
   "name": "python",
   "nbconvert_exporter": "python",
   "pygments_lexer": "ipython3",
   "version": "3.13.0"
  }
 },
 "nbformat": 4,
 "nbformat_minor": 5
}

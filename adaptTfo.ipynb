{
  "nbformat": 4,
  "nbformat_minor": 0,
  "metadata": {
    "colab": {
      "provenance": [],
      "collapsed_sections": [
        "uZwSekKAfozR",
        "-B9Ty03RDwez"
      ]
    },
    "kernelspec": {
      "name": "python3",
      "display_name": "Python 3"
    },
    "language_info": {
      "name": "python"
    },
    "widgets": {
      "application/vnd.jupyter.widget-state+json": {
        "9cdf5a1c596441289c08d02e484d5bc6": {
          "model_module": "@jupyter-widgets/controls",
          "model_name": "HBoxModel",
          "model_module_version": "1.5.0",
          "state": {
            "_dom_classes": [],
            "_model_module": "@jupyter-widgets/controls",
            "_model_module_version": "1.5.0",
            "_model_name": "HBoxModel",
            "_view_count": null,
            "_view_module": "@jupyter-widgets/controls",
            "_view_module_version": "1.5.0",
            "_view_name": "HBoxView",
            "box_style": "",
            "children": [
              "IPY_MODEL_14f74741c7f74a4e94c9a15f0b04d6e8",
              "IPY_MODEL_d72aba683e3a46529215922b0ef6f714",
              "IPY_MODEL_28cc1091ca594127b79c89628e1dab46"
            ],
            "layout": "IPY_MODEL_9dd6be0be1184f72bd69a9129fc5e7bb"
          }
        },
        "14f74741c7f74a4e94c9a15f0b04d6e8": {
          "model_module": "@jupyter-widgets/controls",
          "model_name": "HTMLModel",
          "model_module_version": "1.5.0",
          "state": {
            "_dom_classes": [],
            "_model_module": "@jupyter-widgets/controls",
            "_model_module_version": "1.5.0",
            "_model_name": "HTMLModel",
            "_view_count": null,
            "_view_module": "@jupyter-widgets/controls",
            "_view_module_version": "1.5.0",
            "_view_name": "HTMLView",
            "description": "",
            "description_tooltip": null,
            "layout": "IPY_MODEL_bcb876c70b104dd6ac913a3d91aad9d0",
            "placeholder": "​",
            "style": "IPY_MODEL_7af91099132a4de3aac47801b4885231",
            "value": "Epoch 199: 100%"
          }
        },
        "d72aba683e3a46529215922b0ef6f714": {
          "model_module": "@jupyter-widgets/controls",
          "model_name": "FloatProgressModel",
          "model_module_version": "1.5.0",
          "state": {
            "_dom_classes": [],
            "_model_module": "@jupyter-widgets/controls",
            "_model_module_version": "1.5.0",
            "_model_name": "FloatProgressModel",
            "_view_count": null,
            "_view_module": "@jupyter-widgets/controls",
            "_view_module_version": "1.5.0",
            "_view_name": "ProgressView",
            "bar_style": "success",
            "description": "",
            "description_tooltip": null,
            "layout": "IPY_MODEL_a3a5329c2596420fb0274b2f52491b43",
            "max": 42,
            "min": 0,
            "orientation": "horizontal",
            "style": "IPY_MODEL_90ef513e779a4fc298c58a1d3e8397c2",
            "value": 42
          }
        },
        "28cc1091ca594127b79c89628e1dab46": {
          "model_module": "@jupyter-widgets/controls",
          "model_name": "HTMLModel",
          "model_module_version": "1.5.0",
          "state": {
            "_dom_classes": [],
            "_model_module": "@jupyter-widgets/controls",
            "_model_module_version": "1.5.0",
            "_model_name": "HTMLModel",
            "_view_count": null,
            "_view_module": "@jupyter-widgets/controls",
            "_view_module_version": "1.5.0",
            "_view_name": "HTMLView",
            "description": "",
            "description_tooltip": null,
            "layout": "IPY_MODEL_68a752b6fdc149c3bc55370c93efd0e4",
            "placeholder": "​",
            "style": "IPY_MODEL_8c983d0309d34ffc81350487e577c8ae",
            "value": " 42/42 [00:02&lt;00:00, 14.31it/s, train_loss=0.0029]"
          }
        },
        "9dd6be0be1184f72bd69a9129fc5e7bb": {
          "model_module": "@jupyter-widgets/base",
          "model_name": "LayoutModel",
          "model_module_version": "1.2.0",
          "state": {
            "_model_module": "@jupyter-widgets/base",
            "_model_module_version": "1.2.0",
            "_model_name": "LayoutModel",
            "_view_count": null,
            "_view_module": "@jupyter-widgets/base",
            "_view_module_version": "1.2.0",
            "_view_name": "LayoutView",
            "align_content": null,
            "align_items": null,
            "align_self": null,
            "border": null,
            "bottom": null,
            "display": "inline-flex",
            "flex": null,
            "flex_flow": "row wrap",
            "grid_area": null,
            "grid_auto_columns": null,
            "grid_auto_flow": null,
            "grid_auto_rows": null,
            "grid_column": null,
            "grid_gap": null,
            "grid_row": null,
            "grid_template_areas": null,
            "grid_template_columns": null,
            "grid_template_rows": null,
            "height": null,
            "justify_content": null,
            "justify_items": null,
            "left": null,
            "margin": null,
            "max_height": null,
            "max_width": null,
            "min_height": null,
            "min_width": null,
            "object_fit": null,
            "object_position": null,
            "order": null,
            "overflow": null,
            "overflow_x": null,
            "overflow_y": null,
            "padding": null,
            "right": null,
            "top": null,
            "visibility": null,
            "width": "100%"
          }
        },
        "bcb876c70b104dd6ac913a3d91aad9d0": {
          "model_module": "@jupyter-widgets/base",
          "model_name": "LayoutModel",
          "model_module_version": "1.2.0",
          "state": {
            "_model_module": "@jupyter-widgets/base",
            "_model_module_version": "1.2.0",
            "_model_name": "LayoutModel",
            "_view_count": null,
            "_view_module": "@jupyter-widgets/base",
            "_view_module_version": "1.2.0",
            "_view_name": "LayoutView",
            "align_content": null,
            "align_items": null,
            "align_self": null,
            "border": null,
            "bottom": null,
            "display": null,
            "flex": null,
            "flex_flow": null,
            "grid_area": null,
            "grid_auto_columns": null,
            "grid_auto_flow": null,
            "grid_auto_rows": null,
            "grid_column": null,
            "grid_gap": null,
            "grid_row": null,
            "grid_template_areas": null,
            "grid_template_columns": null,
            "grid_template_rows": null,
            "height": null,
            "justify_content": null,
            "justify_items": null,
            "left": null,
            "margin": null,
            "max_height": null,
            "max_width": null,
            "min_height": null,
            "min_width": null,
            "object_fit": null,
            "object_position": null,
            "order": null,
            "overflow": null,
            "overflow_x": null,
            "overflow_y": null,
            "padding": null,
            "right": null,
            "top": null,
            "visibility": null,
            "width": null
          }
        },
        "7af91099132a4de3aac47801b4885231": {
          "model_module": "@jupyter-widgets/controls",
          "model_name": "DescriptionStyleModel",
          "model_module_version": "1.5.0",
          "state": {
            "_model_module": "@jupyter-widgets/controls",
            "_model_module_version": "1.5.0",
            "_model_name": "DescriptionStyleModel",
            "_view_count": null,
            "_view_module": "@jupyter-widgets/base",
            "_view_module_version": "1.2.0",
            "_view_name": "StyleView",
            "description_width": ""
          }
        },
        "a3a5329c2596420fb0274b2f52491b43": {
          "model_module": "@jupyter-widgets/base",
          "model_name": "LayoutModel",
          "model_module_version": "1.2.0",
          "state": {
            "_model_module": "@jupyter-widgets/base",
            "_model_module_version": "1.2.0",
            "_model_name": "LayoutModel",
            "_view_count": null,
            "_view_module": "@jupyter-widgets/base",
            "_view_module_version": "1.2.0",
            "_view_name": "LayoutView",
            "align_content": null,
            "align_items": null,
            "align_self": null,
            "border": null,
            "bottom": null,
            "display": null,
            "flex": "2",
            "flex_flow": null,
            "grid_area": null,
            "grid_auto_columns": null,
            "grid_auto_flow": null,
            "grid_auto_rows": null,
            "grid_column": null,
            "grid_gap": null,
            "grid_row": null,
            "grid_template_areas": null,
            "grid_template_columns": null,
            "grid_template_rows": null,
            "height": null,
            "justify_content": null,
            "justify_items": null,
            "left": null,
            "margin": null,
            "max_height": null,
            "max_width": null,
            "min_height": null,
            "min_width": null,
            "object_fit": null,
            "object_position": null,
            "order": null,
            "overflow": null,
            "overflow_x": null,
            "overflow_y": null,
            "padding": null,
            "right": null,
            "top": null,
            "visibility": null,
            "width": null
          }
        },
        "90ef513e779a4fc298c58a1d3e8397c2": {
          "model_module": "@jupyter-widgets/controls",
          "model_name": "ProgressStyleModel",
          "model_module_version": "1.5.0",
          "state": {
            "_model_module": "@jupyter-widgets/controls",
            "_model_module_version": "1.5.0",
            "_model_name": "ProgressStyleModel",
            "_view_count": null,
            "_view_module": "@jupyter-widgets/base",
            "_view_module_version": "1.2.0",
            "_view_name": "StyleView",
            "bar_color": null,
            "description_width": ""
          }
        },
        "68a752b6fdc149c3bc55370c93efd0e4": {
          "model_module": "@jupyter-widgets/base",
          "model_name": "LayoutModel",
          "model_module_version": "1.2.0",
          "state": {
            "_model_module": "@jupyter-widgets/base",
            "_model_module_version": "1.2.0",
            "_model_name": "LayoutModel",
            "_view_count": null,
            "_view_module": "@jupyter-widgets/base",
            "_view_module_version": "1.2.0",
            "_view_name": "LayoutView",
            "align_content": null,
            "align_items": null,
            "align_self": null,
            "border": null,
            "bottom": null,
            "display": null,
            "flex": null,
            "flex_flow": null,
            "grid_area": null,
            "grid_auto_columns": null,
            "grid_auto_flow": null,
            "grid_auto_rows": null,
            "grid_column": null,
            "grid_gap": null,
            "grid_row": null,
            "grid_template_areas": null,
            "grid_template_columns": null,
            "grid_template_rows": null,
            "height": null,
            "justify_content": null,
            "justify_items": null,
            "left": null,
            "margin": null,
            "max_height": null,
            "max_width": null,
            "min_height": null,
            "min_width": null,
            "object_fit": null,
            "object_position": null,
            "order": null,
            "overflow": null,
            "overflow_x": null,
            "overflow_y": null,
            "padding": null,
            "right": null,
            "top": null,
            "visibility": null,
            "width": null
          }
        },
        "8c983d0309d34ffc81350487e577c8ae": {
          "model_module": "@jupyter-widgets/controls",
          "model_name": "DescriptionStyleModel",
          "model_module_version": "1.5.0",
          "state": {
            "_model_module": "@jupyter-widgets/controls",
            "_model_module_version": "1.5.0",
            "_model_name": "DescriptionStyleModel",
            "_view_count": null,
            "_view_module": "@jupyter-widgets/base",
            "_view_module_version": "1.2.0",
            "_view_name": "StyleView",
            "description_width": ""
          }
        },
        "fd1de890d78e46bba63fadd7069a9696": {
          "model_module": "@jupyter-widgets/controls",
          "model_name": "HBoxModel",
          "model_module_version": "1.5.0",
          "state": {
            "_dom_classes": [],
            "_model_module": "@jupyter-widgets/controls",
            "_model_module_version": "1.5.0",
            "_model_name": "HBoxModel",
            "_view_count": null,
            "_view_module": "@jupyter-widgets/controls",
            "_view_module_version": "1.5.0",
            "_view_name": "HBoxView",
            "box_style": "",
            "children": [
              "IPY_MODEL_7c1fa2a6db894c53a2f79378229e47c5",
              "IPY_MODEL_0e3aab22e7624744b901ba07541f4842",
              "IPY_MODEL_d3200e6524244219affc80199860d219"
            ],
            "layout": "IPY_MODEL_b34e829df43945cf98248065b562d062"
          }
        },
        "7c1fa2a6db894c53a2f79378229e47c5": {
          "model_module": "@jupyter-widgets/controls",
          "model_name": "HTMLModel",
          "model_module_version": "1.5.0",
          "state": {
            "_dom_classes": [],
            "_model_module": "@jupyter-widgets/controls",
            "_model_module_version": "1.5.0",
            "_model_name": "HTMLModel",
            "_view_count": null,
            "_view_module": "@jupyter-widgets/controls",
            "_view_module_version": "1.5.0",
            "_view_name": "HTMLView",
            "description": "",
            "description_tooltip": null,
            "layout": "IPY_MODEL_b46407d5eaee4d60ab4748f2e0202208",
            "placeholder": "​",
            "style": "IPY_MODEL_a87b2954accf44778d7331b203e502b5",
            "value": "Predicting DataLoader 0: 100%"
          }
        },
        "0e3aab22e7624744b901ba07541f4842": {
          "model_module": "@jupyter-widgets/controls",
          "model_name": "FloatProgressModel",
          "model_module_version": "1.5.0",
          "state": {
            "_dom_classes": [],
            "_model_module": "@jupyter-widgets/controls",
            "_model_module_version": "1.5.0",
            "_model_name": "FloatProgressModel",
            "_view_count": null,
            "_view_module": "@jupyter-widgets/controls",
            "_view_module_version": "1.5.0",
            "_view_name": "ProgressView",
            "bar_style": "success",
            "description": "",
            "description_tooltip": null,
            "layout": "IPY_MODEL_e04308308b984796a97c4bb6b490eaaf",
            "max": 1,
            "min": 0,
            "orientation": "horizontal",
            "style": "IPY_MODEL_e3cef32993ed492eb4f3fbb8db431247",
            "value": 1
          }
        },
        "d3200e6524244219affc80199860d219": {
          "model_module": "@jupyter-widgets/controls",
          "model_name": "HTMLModel",
          "model_module_version": "1.5.0",
          "state": {
            "_dom_classes": [],
            "_model_module": "@jupyter-widgets/controls",
            "_model_module_version": "1.5.0",
            "_model_name": "HTMLModel",
            "_view_count": null,
            "_view_module": "@jupyter-widgets/controls",
            "_view_module_version": "1.5.0",
            "_view_name": "HTMLView",
            "description": "",
            "description_tooltip": null,
            "layout": "IPY_MODEL_ae92e4e830f84980b22730affdff582c",
            "placeholder": "​",
            "style": "IPY_MODEL_b6f6153fd4b64c4790b0c967852036c4",
            "value": " 1/1 [00:00&lt;00:00, 27.91it/s]"
          }
        },
        "b34e829df43945cf98248065b562d062": {
          "model_module": "@jupyter-widgets/base",
          "model_name": "LayoutModel",
          "model_module_version": "1.2.0",
          "state": {
            "_model_module": "@jupyter-widgets/base",
            "_model_module_version": "1.2.0",
            "_model_name": "LayoutModel",
            "_view_count": null,
            "_view_module": "@jupyter-widgets/base",
            "_view_module_version": "1.2.0",
            "_view_name": "LayoutView",
            "align_content": null,
            "align_items": null,
            "align_self": null,
            "border": null,
            "bottom": null,
            "display": "inline-flex",
            "flex": null,
            "flex_flow": "row wrap",
            "grid_area": null,
            "grid_auto_columns": null,
            "grid_auto_flow": null,
            "grid_auto_rows": null,
            "grid_column": null,
            "grid_gap": null,
            "grid_row": null,
            "grid_template_areas": null,
            "grid_template_columns": null,
            "grid_template_rows": null,
            "height": null,
            "justify_content": null,
            "justify_items": null,
            "left": null,
            "margin": null,
            "max_height": null,
            "max_width": null,
            "min_height": null,
            "min_width": null,
            "object_fit": null,
            "object_position": null,
            "order": null,
            "overflow": null,
            "overflow_x": null,
            "overflow_y": null,
            "padding": null,
            "right": null,
            "top": null,
            "visibility": null,
            "width": "100%"
          }
        },
        "b46407d5eaee4d60ab4748f2e0202208": {
          "model_module": "@jupyter-widgets/base",
          "model_name": "LayoutModel",
          "model_module_version": "1.2.0",
          "state": {
            "_model_module": "@jupyter-widgets/base",
            "_model_module_version": "1.2.0",
            "_model_name": "LayoutModel",
            "_view_count": null,
            "_view_module": "@jupyter-widgets/base",
            "_view_module_version": "1.2.0",
            "_view_name": "LayoutView",
            "align_content": null,
            "align_items": null,
            "align_self": null,
            "border": null,
            "bottom": null,
            "display": null,
            "flex": null,
            "flex_flow": null,
            "grid_area": null,
            "grid_auto_columns": null,
            "grid_auto_flow": null,
            "grid_auto_rows": null,
            "grid_column": null,
            "grid_gap": null,
            "grid_row": null,
            "grid_template_areas": null,
            "grid_template_columns": null,
            "grid_template_rows": null,
            "height": null,
            "justify_content": null,
            "justify_items": null,
            "left": null,
            "margin": null,
            "max_height": null,
            "max_width": null,
            "min_height": null,
            "min_width": null,
            "object_fit": null,
            "object_position": null,
            "order": null,
            "overflow": null,
            "overflow_x": null,
            "overflow_y": null,
            "padding": null,
            "right": null,
            "top": null,
            "visibility": null,
            "width": null
          }
        },
        "a87b2954accf44778d7331b203e502b5": {
          "model_module": "@jupyter-widgets/controls",
          "model_name": "DescriptionStyleModel",
          "model_module_version": "1.5.0",
          "state": {
            "_model_module": "@jupyter-widgets/controls",
            "_model_module_version": "1.5.0",
            "_model_name": "DescriptionStyleModel",
            "_view_count": null,
            "_view_module": "@jupyter-widgets/base",
            "_view_module_version": "1.2.0",
            "_view_name": "StyleView",
            "description_width": ""
          }
        },
        "e04308308b984796a97c4bb6b490eaaf": {
          "model_module": "@jupyter-widgets/base",
          "model_name": "LayoutModel",
          "model_module_version": "1.2.0",
          "state": {
            "_model_module": "@jupyter-widgets/base",
            "_model_module_version": "1.2.0",
            "_model_name": "LayoutModel",
            "_view_count": null,
            "_view_module": "@jupyter-widgets/base",
            "_view_module_version": "1.2.0",
            "_view_name": "LayoutView",
            "align_content": null,
            "align_items": null,
            "align_self": null,
            "border": null,
            "bottom": null,
            "display": null,
            "flex": "2",
            "flex_flow": null,
            "grid_area": null,
            "grid_auto_columns": null,
            "grid_auto_flow": null,
            "grid_auto_rows": null,
            "grid_column": null,
            "grid_gap": null,
            "grid_row": null,
            "grid_template_areas": null,
            "grid_template_columns": null,
            "grid_template_rows": null,
            "height": null,
            "justify_content": null,
            "justify_items": null,
            "left": null,
            "margin": null,
            "max_height": null,
            "max_width": null,
            "min_height": null,
            "min_width": null,
            "object_fit": null,
            "object_position": null,
            "order": null,
            "overflow": null,
            "overflow_x": null,
            "overflow_y": null,
            "padding": null,
            "right": null,
            "top": null,
            "visibility": null,
            "width": null
          }
        },
        "e3cef32993ed492eb4f3fbb8db431247": {
          "model_module": "@jupyter-widgets/controls",
          "model_name": "ProgressStyleModel",
          "model_module_version": "1.5.0",
          "state": {
            "_model_module": "@jupyter-widgets/controls",
            "_model_module_version": "1.5.0",
            "_model_name": "ProgressStyleModel",
            "_view_count": null,
            "_view_module": "@jupyter-widgets/base",
            "_view_module_version": "1.2.0",
            "_view_name": "StyleView",
            "bar_color": null,
            "description_width": ""
          }
        },
        "ae92e4e830f84980b22730affdff582c": {
          "model_module": "@jupyter-widgets/base",
          "model_name": "LayoutModel",
          "model_module_version": "1.2.0",
          "state": {
            "_model_module": "@jupyter-widgets/base",
            "_model_module_version": "1.2.0",
            "_model_name": "LayoutModel",
            "_view_count": null,
            "_view_module": "@jupyter-widgets/base",
            "_view_module_version": "1.2.0",
            "_view_name": "LayoutView",
            "align_content": null,
            "align_items": null,
            "align_self": null,
            "border": null,
            "bottom": null,
            "display": null,
            "flex": null,
            "flex_flow": null,
            "grid_area": null,
            "grid_auto_columns": null,
            "grid_auto_flow": null,
            "grid_auto_rows": null,
            "grid_column": null,
            "grid_gap": null,
            "grid_row": null,
            "grid_template_areas": null,
            "grid_template_columns": null,
            "grid_template_rows": null,
            "height": null,
            "justify_content": null,
            "justify_items": null,
            "left": null,
            "margin": null,
            "max_height": null,
            "max_width": null,
            "min_height": null,
            "min_width": null,
            "object_fit": null,
            "object_position": null,
            "order": null,
            "overflow": null,
            "overflow_x": null,
            "overflow_y": null,
            "padding": null,
            "right": null,
            "top": null,
            "visibility": null,
            "width": null
          }
        },
        "b6f6153fd4b64c4790b0c967852036c4": {
          "model_module": "@jupyter-widgets/controls",
          "model_name": "DescriptionStyleModel",
          "model_module_version": "1.5.0",
          "state": {
            "_model_module": "@jupyter-widgets/controls",
            "_model_module_version": "1.5.0",
            "_model_name": "DescriptionStyleModel",
            "_view_count": null,
            "_view_module": "@jupyter-widgets/base",
            "_view_module_version": "1.2.0",
            "_view_name": "StyleView",
            "description_width": ""
          }
        }
      }
    }
  },
  "cells": [
    {
      "cell_type": "markdown",
      "source": [
        "### ☯ **EDA - Seasonal pattern**  "
      ],
      "metadata": {
        "id": "rt0cj1JjElmU"
      }
    },
    {
      "cell_type": "code",
      "source": [
        "import pandas as pd\n",
        "import matplotlib.pyplot as plt\n",
        "from statsmodels.tsa.seasonal import seasonal_decompose\n",
        "import numpy as np\n",
        "\n",
        "# Load the dataset\n",
        "file_path = 'https://raw.githubusercontent.com/ThammakornS/DataForFun/refs/heads/main/casualties_per_month_long.csv'  # Update with the correct path if needed\n",
        "df = pd.read_csv(file_path)\n",
        "\n",
        "# Ensure Month-Year is in datetime format\n",
        "df['Month-Year'] = pd.to_datetime(df['Month-Year'], format='%Y-%m')\n",
        "df['Month'] = df['Month-Year'].dt.month_name()\n",
        "\n",
        "# Method 1: Average casualties by month across all years\n",
        "monthly_avg = df.groupby('Month')['Total Casualties'].mean().reindex([\n",
        "    'January', 'February', 'March', 'April', 'May', 'June',\n",
        "    'July', 'August', 'September', 'October', 'November', 'December'\n",
        "])\n",
        "\n",
        "# Method 2: Time series decomposition\n",
        "# Perform decomposition with a period of 12 (annual seasonality)\n",
        "decomposition = seasonal_decompose(df['Total Casualties'], model='additive', period=12)\n",
        "\n",
        "# Extract the seasonal component\n",
        "seasonal = decomposition.seasonal\n",
        "# Average the seasonal component by month\n",
        "seasonal_df = pd.DataFrame({\n",
        "    'Month-Year': df['Month-Year'],\n",
        "    'Seasonal': seasonal,\n",
        "    'Month': df['Month']\n",
        "})\n",
        "seasonal_monthly_avg = seasonal_df.groupby('Month')['Seasonal'].mean().reindex([\n",
        "    'January', 'February', 'March', 'April', 'May', 'June',\n",
        "    'July', 'August', 'September', 'October', 'November', 'December'\n",
        "])\n",
        "\n",
        "# Plot the results\n",
        "plt.figure(figsize=(12, 6))\n",
        "\n",
        "# Plot average casualties by month\n",
        "plt.subplot(1, 2, 1)\n",
        "monthly_avg.plot(kind='bar', color='skyblue')\n",
        "plt.title('Average Casualties by Month (1979–2023)')\n",
        "plt.xlabel('Month')\n",
        "plt.ylabel('Average Casualties')\n",
        "plt.xticks(rotation=45)\n",
        "plt.grid(True, axis='y')\n",
        "\n",
        "# Plot seasonal component by month\n",
        "plt.subplot(1, 2, 2)\n",
        "seasonal_monthly_avg.plot(kind='bar', color='lightgreen')\n",
        "plt.title('Average Seasonal Component by Month (Decomposition)')\n",
        "plt.xlabel('Month')\n",
        "plt.ylabel('Seasonal Effect')\n",
        "plt.xticks(rotation=45)\n",
        "plt.grid(True, axis='y')\n",
        "\n",
        "plt.tight_layout()\n",
        "plt.show()\n",
        "\n",
        "# Print the average casualties by month\n",
        "print(\"\\nAverage Casualties by Month (1979–2023):\")\n",
        "print(monthly_avg.round(2))\n",
        "\n",
        "# Print the average seasonal component by month\n",
        "print(\"\\nAverage Seasonal Component by Month (Decomposition):\")\n",
        "print(seasonal_monthly_avg.round(2))"
      ],
      "metadata": {
        "colab": {
          "base_uri": "https://localhost:8080/",
          "height": 1000
        },
        "id": "iN6hlURVElIF",
        "outputId": "3aa881e1-a5d4-441e-f57a-23ffce4ea667"
      },
      "execution_count": null,
      "outputs": [
        {
          "output_type": "display_data",
          "data": {
            "text/plain": [
              "<Figure size 1200x600 with 2 Axes>"
            ],
            "image/png": "[encoded data removed]"
          },
          "metadata": {}
        },
        {
          "output_type": "stream",
          "name": "stdout",
          "text": [
            "\n",
            "Average Casualties by Month (1979–2023):\n",
            "Month\n",
            "January      20486.49\n",
            "February     18791.02\n",
            "March        20593.56\n",
            "April        20189.78\n",
            "May          22057.24\n",
            "June         22059.24\n",
            "July         23032.13\n",
            "August       22605.69\n",
            "September    22625.09\n",
            "October      24084.80\n",
            "November     24201.80\n",
            "December     22516.89\n",
            "Name: Total Casualties, dtype: float64\n",
            "\n",
            "Average Seasonal Component by Month (Decomposition):\n",
            "Month\n",
            "January     -1601.15\n",
            "February    -3229.01\n",
            "March       -1478.33\n",
            "April       -1828.06\n",
            "May            35.26\n",
            "June          115.05\n",
            "July         1103.56\n",
            "August        711.10\n",
            "September     746.45\n",
            "October      2266.64\n",
            "November     2416.80\n",
            "December      741.71\n",
            "Name: Seasonal, dtype: float64\n"
          ]
        }
      ]
    },
    {
      "cell_type": "markdown",
      "source": [
        "See specific year"
      ],
      "metadata": {
        "id": "7IQK_rF3GsaS"
      }
    },
    {
      "cell_type": "code",
      "source": [
        "df_2023 = df[df['Month-Year'].dt.year == 2020]\n",
        "plt.figure(figsize=(10, 6))\n",
        "plt.plot(monthly_avg.index, monthly_avg, label='Average (1979–2023)', marker='o')\n",
        "plt.plot(df_2023['Month'], df_2023['Total Casualties'], label='2023', marker='x')\n",
        "plt.title('Seasonal Pattern: 2023 vs Average')\n",
        "plt.xlabel('Month')\n",
        "plt.ylabel('Casualties')\n",
        "plt.xticks(rotation=45)\n",
        "plt.legend()\n",
        "plt.grid(True)\n",
        "plt.show()"
      ],
      "metadata": {
        "colab": {
          "base_uri": "https://localhost:8080/",
          "height": 614
        },
        "id": "STlf8YBWGurx",
        "outputId": "265e3f05-5fba-406a-a059-b5d680575126"
      },
      "execution_count": null,
      "outputs": [
        {
          "output_type": "display_data",
          "data": {
            "text/plain": [
              "<Figure size 1000x600 with 1 Axes>"
            ],
            "image/png": "[encoded data removed]"
          },
          "metadata": {}
        }
      ]
    },
    {
      "cell_type": "code",
      "source": [
        "from scipy.stats import f_oneway\n",
        "monthly_groups = [df[df['Month'] == month]['Total Casualties'] for month in monthly_avg.index]\n",
        "f_stat, p_value = f_oneway(*monthly_groups)\n",
        "print(f\"ANOVA p-value: {p_value:.5f}\")"
      ],
      "metadata": {
        "colab": {
          "base_uri": "https://localhost:8080/"
        },
        "id": "iAFOR_IbHD74",
        "outputId": "c125e4a3-1118-4ea3-c0c4-3a63167e953d"
      },
      "execution_count": null,
      "outputs": [
        {
          "output_type": "stream",
          "name": "stdout",
          "text": [
            "ANOVA p-value: 0.00029\n"
          ]
        }
      ]
    },
    {
      "cell_type": "markdown",
      "source": [
        "\\\n",
        "### ☯ **Test with Transformer (Tf Basic, minimal built):**"
      ],
      "metadata": {
        "id": "DDOrMXlVF5w7"
      }
    },
    {
      "cell_type": "markdown",
      "source": [
        "\\\n",
        "⚡**MultiHeadAttention:**  \n",
        "  \n",
        "self.att = layers.MultiHeadAttention(num_heads=num_heads, key_dim=embed_dim)  \n",
        "  \n",
        "| Parameter                                | Description                                                                           |\n",
        "| ---------------------------------------- | ------------------------------------------------------------------------------------- |\n",
        "| `num_heads`                              | (Set) Number of attention heads.                                                      |\n",
        "| `key_dim`                                | (Set as `embed_dim`) Size of each attention head for query and key.                   |\n",
        "| `value_dim`                              | Size of value vectors for each attention head. Defaults to `key_dim`.                 |\n",
        "| `dropout`                                | Dropout probability for attention scores. Default is `0.0`.                           |\n",
        "| `use_bias`                               | Whether to use bias in linear projections. Default is `True`.                         |\n",
        "| `output_shape`                           | The expected shape of the output tensor. Default is `None`, i.e., same as input.      |\n",
        "| `attention_axes`                         | Axes over which attention is applied. Default is `None` (all except batch and heads). |\n",
        "| `kernel_initializer`, `bias_initializer` | Initializers for weights and biases.                                                  |\n",
        "| `kernel_regularizer`, `bias_regularizer` | Regularizers for weights and biases.                                                  |\n",
        "| `activity_regularizer`                   | Regularizer for output.                                                               |\n",
        "| `kernel_constraint`, `bias_constraint`   | Constraints for weights and biases.                                                   |\n"
      ],
      "metadata": {
        "id": "kosapK2LDbDH"
      }
    },
    {
      "cell_type": "markdown",
      "source": [
        "\\\n",
        "⚡**Dense layers in FFN:**   \n",
        "  \n",
        "self.ffn = tf.keras.Sequential([  \n",
        "    layers.Dense(ff_dim, activation='relu'),  \n",
        "    layers.Dense(embed_dim),  \n",
        "])  \n",
        "  \n",
        "| Parameter                                                        | Description                                                    |\n",
        "| ---------------------------------------------------------------- | -------------------------------------------------------------- |\n",
        "| `units`                                                          | (Set) Number of neurons in the layer.                          |\n",
        "| `activation`                                                     | (Set for first layer, default for second) Activation function. |\n",
        "| `use_bias`                                                       | Whether to include a bias term. Default is `True`.             |\n",
        "| `kernel_initializer`, `bias_initializer`                         | Initializers for weights and biases.                           |\n",
        "| `kernel_regularizer`, `bias_regularizer`, `activity_regularizer` | Regularization options.                                        |\n",
        "| `kernel_constraint`, `bias_constraint`                           | Constraints for weights and biases.                            |\n"
      ],
      "metadata": {
        "id": "oNLjx0ikD6MO"
      }
    },
    {
      "cell_type": "markdown",
      "source": [
        "\\\n",
        "⚡**LayerNormalization:**  \n",
        "  \n",
        "self.layernorm1 = layers.LayerNormalization()  \n",
        "self.layernorm2 = layers.LayerNormalization()  \n",
        "  \n",
        "| Parameter                               | Description                                                               |\n",
        "| --------------------------------------- | ------------------------------------------------------------------------- |\n",
        "| `axis`                                  | Axis or axes to normalize. Default is `-1`.                               |\n",
        "| `epsilon`                               | Small float added to variance to avoid divide by zero. Default is `1e-3`. |\n",
        "| `center`                                | Whether to include a trainable center parameter (β). Default is `True`.   |\n",
        "| `scale`                                 | Whether to include a trainable scale parameter (γ). Default is `True`.    |\n",
        "| `beta_initializer`, `gamma_initializer` | Initializers for β and γ.                                                 |\n",
        "| `beta_regularizer`, `gamma_regularizer` | Regularizers for β and γ.                                                 |\n",
        "| `beta_constraint`, `gamma_constraint`   | Constraints for β and γ.                                                  |\n"
      ],
      "metadata": {
        "id": "MdPguT7BD6yU"
      }
    },
    {
      "cell_type": "markdown",
      "source": [
        "\\\n",
        "⚡ **Dropout:**  \n",
        "  \n",
        "self.dropout1 = layers.Dropout(rate)  \n",
        "self.dropout2 = layers.Dropout(rate)   \n",
        "  \n",
        "| Parameter     | Description                                                                   |\n",
        "| ------------- | ----------------------------------------------------------------------------- |\n",
        "| `rate`        | (Set) Dropout rate (fraction of inputs to drop).                              |\n",
        "| `noise_shape` | Shape for randomly dropped elements. Default is `None` (same shape as input). |\n",
        "| `seed`        | Random seed for reproducibility.                                              |\n"
      ],
      "metadata": {
        "id": "GQZxzpraD7bF"
      }
    },
    {
      "cell_type": "code",
      "execution_count": 10,
      "metadata": {
        "id": "qWt6KPCw9mf-",
        "colab": {
          "base_uri": "https://localhost:8080/",
          "height": 1000
        },
        "outputId": "bdef3713-7296-49f4-e71f-ad48f71a11b4"
      },
      "outputs": [
        {
          "output_type": "stream",
          "name": "stdout",
          "text": [
            "\n",
            "🔍 Testing: WS=4, Blocks=1, Embed=16, Heads=1, LR=0.001, Dropout=0.05, ValueDim=None, AttnDropout=0.0, Bias=True, Eps=0.001, Center=True, Scale=True\n",
            "Epoch 1/200\n",
            "\u001b[1m38/38\u001b[0m \u001b[32m━━━━━━━━━━━━━━━━━━━━\u001b[0m\u001b[37m\u001b[0m \u001b[1m9s\u001b[0m 35ms/step - loss: 0.0286 - val_loss: 0.0013 - learning_rate: 0.0010\n",
            "Epoch 2/200\n",
            "\u001b[1m38/38\u001b[0m \u001b[32m━━━━━━━━━━━━━━━━━━━━\u001b[0m\u001b[37m\u001b[0m \u001b[1m0s\u001b[0m 9ms/step - loss: 0.0017 - val_loss: 4.0885e-04 - learning_rate: 0.0010\n",
            "Epoch 3/200\n",
            "\u001b[1m38/38\u001b[0m \u001b[32m━━━━━━━━━━━━━━━━━━━━\u001b[0m\u001b[37m\u001b[0m \u001b[1m1s\u001b[0m 12ms/step - loss: 9.5201e-04 - val_loss: 2.1082e-04 - learning_rate: 0.0010\n",
            "Epoch 4/200\n",
            "\u001b[1m38/38\u001b[0m \u001b[32m━━━━━━━━━━━━━━━━━━━━\u001b[0m\u001b[37m\u001b[0m \u001b[1m0s\u001b[0m 12ms/step - loss: 9.7348e-04 - val_loss: 1.7219e-04 - learning_rate: 0.0010\n",
            "Epoch 5/200\n",
            "\u001b[1m38/38\u001b[0m \u001b[32m━━━━━━━━━━━━━━━━━━━━\u001b[0m\u001b[37m\u001b[0m \u001b[1m0s\u001b[0m 9ms/step - loss: 8.3161e-04 - val_loss: 1.7450e-04 - learning_rate: 0.0010\n",
            "Epoch 6/200\n",
            "\u001b[1m38/38\u001b[0m \u001b[32m━━━━━━━━━━━━━━━━━━━━\u001b[0m\u001b[37m\u001b[0m \u001b[1m0s\u001b[0m 10ms/step - loss: 6.9917e-04 - val_loss: 1.8938e-04 - learning_rate: 0.0010\n",
            "Epoch 7/200\n",
            "\u001b[1m38/38\u001b[0m \u001b[32m━━━━━━━━━━━━━━━━━━━━\u001b[0m\u001b[37m\u001b[0m \u001b[1m0s\u001b[0m 8ms/step - loss: 6.3467e-04 - val_loss: 2.3148e-04 - learning_rate: 0.0010\n",
            "Epoch 8/200\n",
            "\u001b[1m38/38\u001b[0m \u001b[32m━━━━━━━━━━━━━━━━━━━━\u001b[0m\u001b[37m\u001b[0m \u001b[1m1s\u001b[0m 9ms/step - loss: 4.3516e-04 - val_loss: 3.3485e-04 - learning_rate: 0.0010\n",
            "Epoch 9/200\n",
            "\u001b[1m38/38\u001b[0m \u001b[32m━━━━━━━━━━━━━━━━━━━━\u001b[0m\u001b[37m\u001b[0m \u001b[1m0s\u001b[0m 9ms/step - loss: 5.1507e-04 - val_loss: 1.1427e-04 - learning_rate: 5.0000e-04\n",
            "Epoch 10/200\n",
            "\u001b[1m38/38\u001b[0m \u001b[32m━━━━━━━━━━━━━━━━━━━━\u001b[0m\u001b[37m\u001b[0m \u001b[1m1s\u001b[0m 9ms/step - loss: 4.2783e-04 - val_loss: 1.2293e-04 - learning_rate: 5.0000e-04\n",
            "Epoch 11/200\n",
            "\u001b[1m38/38\u001b[0m \u001b[32m━━━━━━━━━━━━━━━━━━━━\u001b[0m\u001b[37m\u001b[0m \u001b[1m1s\u001b[0m 10ms/step - loss: 3.7253e-04 - val_loss: 1.8361e-04 - learning_rate: 5.0000e-04\n",
            "Epoch 12/200\n",
            "\u001b[1m38/38\u001b[0m \u001b[32m━━━━━━━━━━━━━━━━━━━━\u001b[0m\u001b[37m\u001b[0m \u001b[1m0s\u001b[0m 10ms/step - loss: 4.1975e-04 - val_loss: 1.0306e-04 - learning_rate: 5.0000e-04\n",
            "Epoch 13/200\n",
            "\u001b[1m38/38\u001b[0m \u001b[32m━━━━━━━━━━━━━━━━━━━━\u001b[0m\u001b[37m\u001b[0m \u001b[1m1s\u001b[0m 9ms/step - loss: 3.1329e-04 - val_loss: 1.1009e-04 - learning_rate: 5.0000e-04\n",
            "Epoch 14/200\n",
            "\u001b[1m38/38\u001b[0m \u001b[32m━━━━━━━━━━━━━━━━━━━━\u001b[0m\u001b[37m\u001b[0m \u001b[1m1s\u001b[0m 9ms/step - loss: 2.6065e-04 - val_loss: 1.2452e-04 - learning_rate: 5.0000e-04\n",
            "Epoch 15/200\n",
            "\u001b[1m38/38\u001b[0m \u001b[32m━━━━━━━━━━━━━━━━━━━━\u001b[0m\u001b[37m\u001b[0m \u001b[1m1s\u001b[0m 9ms/step - loss: 3.3168e-04 - val_loss: 1.7706e-04 - learning_rate: 5.0000e-04\n",
            "Epoch 16/200\n",
            "\u001b[1m38/38\u001b[0m \u001b[32m━━━━━━━━━━━━━━━━━━━━\u001b[0m\u001b[37m\u001b[0m \u001b[1m0s\u001b[0m 8ms/step - loss: 3.0087e-04 - val_loss: 9.9807e-05 - learning_rate: 5.0000e-04\n",
            "Epoch 17/200\n",
            "\u001b[1m38/38\u001b[0m \u001b[32m━━━━━━━━━━━━━━━━━━━━\u001b[0m\u001b[37m\u001b[0m \u001b[1m1s\u001b[0m 13ms/step - loss: 2.8006e-04 - val_loss: 8.8574e-05 - learning_rate: 5.0000e-04\n",
            "Epoch 18/200\n",
            "\u001b[1m38/38\u001b[0m \u001b[32m━━━━━━━━━━━━━━━━━━━━\u001b[0m\u001b[37m\u001b[0m \u001b[1m0s\u001b[0m 11ms/step - loss: 2.1507e-04 - val_loss: 9.4171e-05 - learning_rate: 2.5000e-04\n",
            "Epoch 19/200\n",
            "\u001b[1m38/38\u001b[0m \u001b[32m━━━━━━━━━━━━━━━━━━━━\u001b[0m\u001b[37m\u001b[0m \u001b[1m1s\u001b[0m 9ms/step - loss: 2.0848e-04 - val_loss: 1.0247e-04 - learning_rate: 2.5000e-04\n",
            "Epoch 20/200\n",
            "\u001b[1m38/38\u001b[0m \u001b[32m━━━━━━━━━━━━━━━━━━━━\u001b[0m\u001b[37m\u001b[0m \u001b[1m1s\u001b[0m 12ms/step - loss: 1.8860e-04 - val_loss: 1.6804e-04 - learning_rate: 2.5000e-04\n",
            "Epoch 21/200\n",
            "\u001b[1m38/38\u001b[0m \u001b[32m━━━━━━━━━━━━━━━━━━━━\u001b[0m\u001b[37m\u001b[0m \u001b[1m1s\u001b[0m 13ms/step - loss: 2.1809e-04 - val_loss: 1.1782e-04 - learning_rate: 2.5000e-04\n",
            "Epoch 22/200\n",
            "\u001b[1m38/38\u001b[0m \u001b[32m━━━━━━━━━━━━━━━━━━━━\u001b[0m\u001b[37m\u001b[0m \u001b[1m1s\u001b[0m 15ms/step - loss: 2.0269e-04 - val_loss: 1.0505e-04 - learning_rate: 2.5000e-04\n",
            "Epoch 23/200\n",
            "\u001b[1m38/38\u001b[0m \u001b[32m━━━━━━━━━━━━━━━━━━━━\u001b[0m\u001b[37m\u001b[0m \u001b[1m1s\u001b[0m 12ms/step - loss: 1.9916e-04 - val_loss: 9.4413e-05 - learning_rate: 1.2500e-04\n",
            "Epoch 24/200\n",
            "\u001b[1m38/38\u001b[0m \u001b[32m━━━━━━━━━━━━━━━━━━━━\u001b[0m\u001b[37m\u001b[0m \u001b[1m1s\u001b[0m 13ms/step - loss: 1.6411e-04 - val_loss: 1.0749e-04 - learning_rate: 1.2500e-04\n",
            "Epoch 25/200\n",
            "\u001b[1m38/38\u001b[0m \u001b[32m━━━━━━━━━━━━━━━━━━━━\u001b[0m\u001b[37m\u001b[0m \u001b[1m1s\u001b[0m 15ms/step - loss: 1.7582e-04 - val_loss: 9.4688e-05 - learning_rate: 1.2500e-04\n",
            "Epoch 26/200\n",
            "\u001b[1m38/38\u001b[0m \u001b[32m━━━━━━━━━━━━━━━━━━━━\u001b[0m\u001b[37m\u001b[0m \u001b[1m0s\u001b[0m 10ms/step - loss: 2.0172e-04 - val_loss: 9.0740e-05 - learning_rate: 1.2500e-04\n",
            "Epoch 27/200\n",
            "\u001b[1m38/38\u001b[0m \u001b[32m━━━━━━━━━━━━━━━━━━━━\u001b[0m\u001b[37m\u001b[0m \u001b[1m0s\u001b[0m 9ms/step - loss: 1.4039e-04 - val_loss: 9.0467e-05 - learning_rate: 1.2500e-04\n",
            "✅ MAPE: 0.67121, R2: 0.44567\n",
            "\n",
            "Results DataFrame (sorted by R2):\n",
            "   Window Size  Num Blocks  Embed Dim  Num Heads  Learning Rate  Dropout Rate  \\\n",
            "0            4           1         16          1          0.001          0.05   \n",
            "\n",
            "  Value Dim  Attn Dropout  Use Bias  Norm Epsilon  Norm Center  Norm Scale  \\\n",
            "0      None           0.0      True         0.001         True        True   \n",
            "\n",
            "   Epochs           MSE      MAPE        R2  \n",
            "0     200  1.178571e-07  0.671214  0.445667  \n"
          ]
        },
        {
          "output_type": "display_data",
          "data": {
            "text/plain": [
              "<Figure size 1000x600 with 1 Axes>"
            ],
            "image/png": "[encoded data removed]"
          },
          "metadata": {}
        }
      ],
      "source": [
        "import numpy as np\n",
        "import pandas as pd\n",
        "import tensorflow as tf\n",
        "from tensorflow.keras import layers, models\n",
        "import matplotlib.pyplot as plt\n",
        "from sklearn.metrics import mean_squared_error, r2_score\n",
        "from sklearn.preprocessing import MinMaxScaler\n",
        "from itertools import product\n",
        "import warnings\n",
        "import random\n",
        "import os\n",
        "\n",
        "# Set reproducible seed 👈\n",
        "SEED = 42\n",
        "random.seed(SEED)\n",
        "np.random.seed(SEED)\n",
        "tf.random.set_seed(SEED)\n",
        "os.environ['PYTHONHASHSEED'] = str(SEED)\n",
        "# Optional: deterministic ops (if your TF version supports it)\n",
        "tf.keras.utils.set_random_seed(SEED)\n",
        "tf.config.experimental.enable_op_determinism()\n",
        "warnings.filterwarnings(\"ignore\")\n",
        "\n",
        "# Define MAPE metric\n",
        "def mean_absolute_percentage_error(y_true, y_pred):\n",
        "    y_true, y_pred = np.array(y_true), np.array(y_pred)\n",
        "    return np.mean(np.abs((y_true - y_pred) / (y_true + 1e-10))) * 100\n",
        "\n",
        "# Load and preprocess the dataset\n",
        "def load_data(file_path):\n",
        "    df = pd.read_csv(file_path)\n",
        "    # Apply log transformation to Total Casualties\n",
        "    # data = np.log1p(df['Total Casualties'].values.astype(float))\n",
        "    data = df['Total Casualties'].values.astype(float)/100\n",
        "    # Normalize the log-transformed data\n",
        "    scaler = MinMaxScaler()\n",
        "    data_normalized = scaler.fit_transform(data.reshape(-1, 1)).flatten()\n",
        "    # Extract month as a feature (1-12)\n",
        "    df['Month-Year'] = pd.to_datetime(df['Month-Year'], format='%Y-%m')\n",
        "    months = df['Month-Year'].dt.month.values\n",
        "    # Normalize months to [0, 1]\n",
        "    month_scaler = MinMaxScaler()\n",
        "    months_normalized = month_scaler.fit_transform(months.reshape(-1, 1)).flatten()\n",
        "    return data_normalized, months_normalized, scaler, month_scaler, data\n",
        "\n",
        "# Prepare sequences for a given window size\n",
        "def create_dataset(series, months, window_size):\n",
        "    X, y = [], []\n",
        "    for i in range(len(series) - window_size):\n",
        "        # Combine series and month features\n",
        "        X.append(np.stack([series[i:i+window_size], months[i:i+window_size]], axis=-1))\n",
        "        y.append(series[i+window_size])\n",
        "    X = np.array(X)  # Shape: [samples, window_size, features]\n",
        "    y = np.array(y)\n",
        "    return X, y\n",
        "\n",
        "# Transformer Block\n",
        "class TransformerBlock(layers.Layer):\n",
        "    def __init__(self, embed_dim, num_heads, ff_dim, rate=0.1,\n",
        "                 value_dim=None, attn_dropout=0.0, use_bias=True,\n",
        "                 norm_epsilon=1e-3, norm_center=True, norm_scale=True):\n",
        "        super().__init__()\n",
        "        self.att = layers.MultiHeadAttention(\n",
        "            num_heads=num_heads,\n",
        "            key_dim=embed_dim,\n",
        "            value_dim=value_dim,\n",
        "            dropout=attn_dropout,\n",
        "            use_bias=use_bias\n",
        "        )\n",
        "        self.ffn = tf.keras.Sequential([\n",
        "            layers.Dense(ff_dim, activation='relu', use_bias=use_bias),\n",
        "            layers.Dense(embed_dim, use_bias=use_bias),\n",
        "        ])\n",
        "        self.layernorm1 = layers.LayerNormalization(epsilon=norm_epsilon, center=norm_center, scale=norm_scale)\n",
        "        self.layernorm2 = layers.LayerNormalization(epsilon=norm_epsilon, center=norm_center, scale=norm_scale)\n",
        "        self.dropout1 = layers.Dropout(rate)\n",
        "        self.dropout2 = layers.Dropout(rate)\n",
        "\n",
        "    def call(self, inputs, training=False, **kwargs):\n",
        "        attn_output = self.att(inputs, inputs, training=training)\n",
        "        out1 = self.layernorm1(inputs + self.dropout1(attn_output, training=training))\n",
        "        ffn_output = self.ffn(out1, training=training)\n",
        "        return self.layernorm2(out1 + self.dropout2(ffn_output, training=training))\n",
        "\n",
        "# Build Transformer model with LSTM\n",
        "def build_model(input_shape, num_blocks, embed_dim, num_heads, ff_dim, dropout_rate,\n",
        "                value_dim, attn_dropout, use_bias, norm_epsilon, norm_center, norm_scale):\n",
        "    inputs = layers.Input(shape=input_shape)\n",
        "    x = layers.LSTM(32, return_sequences=True)(inputs)\n",
        "    x = layers.Dense(embed_dim)(x)\n",
        "    for _ in range(num_blocks):\n",
        "        x = TransformerBlock(embed_dim=embed_dim, num_heads=num_heads, ff_dim=ff_dim, rate=dropout_rate,\n",
        "                             value_dim=value_dim, attn_dropout=attn_dropout, use_bias=use_bias,\n",
        "                             norm_epsilon=norm_epsilon, norm_center=norm_center, norm_scale=norm_scale)(x)\n",
        "    x = layers.GlobalAveragePooling1D()(x)\n",
        "    x = layers.Dense(32, activation='relu')(x)\n",
        "    x = layers.Dense(1)(x)\n",
        "    return models.Model(inputs, x)\n",
        "\n",
        "# Load the dataset\n",
        "file_path = 'https://raw.githubusercontent.com/ThammakornS/DataForFun/refs/heads/main/casualties_per_month_long_year_norm.csv'  # Update with the correct path if needed\n",
        "data_normalized, months_normalized, scaler, month_scaler, raw_data = load_data(file_path)\n",
        "\n",
        "# Hyperparameter grid\n",
        "# param_grid = {\n",
        "#     'window_size': [2, 3, 4, 6],\n",
        "#     'num_blocks': [1, 2],\n",
        "#     'embed_dim': [8, 16, 32],\n",
        "#     'num_heads': [1, 2],\n",
        "#     'learning_rate': [0.001],\n",
        "#     'dropout_rate': [0.1, 0.2]\n",
        "# }\n",
        "\n",
        "# param_grid = {\n",
        "#     'window_size': [4, 6],\n",
        "#     'num_blocks': [1, 4],\n",
        "#     'embed_dim': [8, 16],\n",
        "#     'num_heads': [1],\n",
        "#     'learning_rate': [0.001],\n",
        "#     'dropout_rate': [0.05, 0.1]\n",
        "# }\n",
        "# Best R2 at:\n",
        "# Window Size  Num Blocks  Embed Dim  Num Heads  Learning Rate  Dropout Rate\n",
        "#       4           1         16          1          0.001         0.05\n",
        "\n",
        "# ⚡⚡⚡⚡\n",
        "param_grid = {\n",
        "    'window_size': [4],\n",
        "    'num_blocks': [1],\n",
        "    'embed_dim': [16],\n",
        "    'num_heads': [1],\n",
        "    'learning_rate': [0.001],\n",
        "    'dropout_rate': [0.05],\n",
        "    'value_dim': [None],  # Could try [None, 8]\n",
        "    'attn_dropout': [0.0],  # Add 0.1 to test effect\n",
        "    'use_bias': [True],\n",
        "    'norm_epsilon': [1e-3],  # Try also 1e-5\n",
        "    'norm_center': [True],\n",
        "    'norm_scale': [True],\n",
        "    'epochs': [200]  # 👈 Not too much\n",
        "}\n",
        "\n",
        "results = []\n",
        "\n",
        "# Grid search\n",
        "for window_size, num_blocks, embed_dim, num_heads, lr, dropout_rate, \\\n",
        "    value_dim, attn_dropout, use_bias, norm_epsilon, norm_center, norm_scale, epochs in product(\n",
        "    param_grid['window_size'], param_grid['num_blocks'], param_grid['embed_dim'],\n",
        "    param_grid['num_heads'], param_grid['learning_rate'], param_grid['dropout_rate'],\n",
        "    param_grid['value_dim'], param_grid['attn_dropout'], param_grid['use_bias'],\n",
        "    param_grid['norm_epsilon'], param_grid['norm_center'], param_grid['norm_scale'],\n",
        "    param_grid['epochs']\n",
        "):\n",
        "    if embed_dim % num_heads != 0:\n",
        "        continue\n",
        "\n",
        "    print(f\"\\n🔍 Testing: WS={window_size}, Blocks={num_blocks}, Embed={embed_dim}, Heads={num_heads}, \"\n",
        "          f\"LR={lr}, Dropout={dropout_rate}, ValueDim={value_dim}, AttnDropout={attn_dropout}, \"\n",
        "          f\"Bias={use_bias}, Eps={norm_epsilon}, Center={norm_center}, Scale={norm_scale}\")\n",
        "\n",
        "    X, y = create_dataset(raw_data, months_normalized, window_size)\n",
        "    total_samples = len(X)\n",
        "    total_months = len(data_normalized)\n",
        "    test_start_idx = total_months - 12\n",
        "    test_indices = [i for i in range(total_samples) if i + window_size >= test_start_idx]\n",
        "    train_val_indices = [i for i in range(total_samples) if i + window_size < test_start_idx]\n",
        "    train_split = int(0.85 * len(train_val_indices))\n",
        "    train_indices = train_val_indices[:train_split]\n",
        "    val_indices = train_val_indices[train_split:]\n",
        "    X_train, y_train = X[train_indices], y[train_indices]\n",
        "    X_val, y_val = X[val_indices], y[val_indices]\n",
        "    X_test, y_test = X[test_indices], y[test_indices]\n",
        "\n",
        "    model = build_model((window_size, 2), num_blocks, embed_dim, num_heads, 64, dropout_rate,\n",
        "                        value_dim, attn_dropout, use_bias, norm_epsilon, norm_center, norm_scale)\n",
        "    optimizer = tf.keras.optimizers.Adam(learning_rate=lr)\n",
        "    model.compile(optimizer=optimizer, loss='mse')\n",
        "    early_stopping = tf.keras.callbacks.EarlyStopping(monitor='val_loss', patience=10, restore_best_weights=True)\n",
        "    lr_scheduler = tf.keras.callbacks.ReduceLROnPlateau(monitor='val_loss', factor=0.5, patience=5)\n",
        "\n",
        "    model.fit(X_train, y_train, epochs=epochs, batch_size=12, verbose=1,\n",
        "          validation_data=(X_val, y_val), callbacks=[early_stopping, lr_scheduler])\n",
        "\n",
        "    test_preds = model.predict(X_test, verbose=0).flatten()\n",
        "    test_preds_rescaled = np.expm1(scaler.inverse_transform(test_preds.reshape(-1, 1)).flatten())\n",
        "    y_test_rescaled = np.expm1(scaler.inverse_transform(y_test.reshape(-1, 1)).flatten())\n",
        "\n",
        "    mse = mean_squared_error(y_test_rescaled, test_preds_rescaled)\n",
        "    mape = mean_absolute_percentage_error(y_test_rescaled, test_preds_rescaled)\n",
        "    r2 = r2_score(y_test_rescaled, test_preds_rescaled)\n",
        "\n",
        "    results.append((window_size, num_blocks, embed_dim, num_heads, lr, dropout_rate,\n",
        "                value_dim, attn_dropout, use_bias, norm_epsilon, norm_center, norm_scale,\n",
        "                epochs, mse, mape, r2))\n",
        "    print(f\"✅ MAPE: {mape:.5f}, R2: {r2:.5f}\")\n",
        "\n",
        "\n",
        "# Results DataFrame\n",
        "results_df = pd.DataFrame(results, columns=[\n",
        "    'Window Size', 'Num Blocks', 'Embed Dim', 'Num Heads', 'Learning Rate', 'Dropout Rate',\n",
        "    'Value Dim', 'Attn Dropout', 'Use Bias', 'Norm Epsilon', 'Norm Center', 'Norm Scale',\n",
        "    'Epochs', 'MSE', 'MAPE', 'R2'\n",
        "]).sort_values(by='R2', ascending=False)\n",
        "print(\"\\nResults DataFrame (sorted by R2):\")\n",
        "print(results_df)\n",
        "\n",
        "# Plot R2 for top configurations\n",
        "top_configs = results_df.head(5)\n",
        "plt.figure(figsize=(10, 6))\n",
        "for idx, row in top_configs.iterrows():\n",
        "    label = f\"WS={row['Window Size']}, Blocks={row['Num Blocks']}, Embed={row['Embed Dim']}, Heads={row['Num Heads']}, LR={row['Learning Rate']}\"\n",
        "    plt.scatter(row['R2'], row['MAPE'], label=label)\n",
        "plt.title(\"Top Configurations: R2 vs MAPE\")\n",
        "plt.xlabel(\"R2 Score\")\n",
        "plt.ylabel(\"MAPE\")\n",
        "plt.legend()\n",
        "plt.grid(True)\n",
        "plt.show()"
      ]
    },
    {
      "cell_type": "code",
      "source": [
        "# get result dataframe\n",
        "results_df"
      ],
      "metadata": {
        "colab": {
          "base_uri": "https://localhost:8080/",
          "height": 89
        },
        "id": "OZSHZ4G_-dNc",
        "outputId": "9f0291dc-de06-4652-feeb-fbcbb9d2f9d3"
      },
      "execution_count": 11,
      "outputs": [
        {
          "output_type": "execute_result",
          "data": {
            "text/plain": [
              "   Window Size  Num Blocks  Embed Dim  Num Heads  Learning Rate  Dropout Rate  \\\n",
              "0            4           1         16          1          0.001          0.05   \n",
              "\n",
              "  Value Dim  Attn Dropout  Use Bias  Norm Epsilon  Norm Center  Norm Scale  \\\n",
              "0      None           0.0      True         0.001         True        True   \n",
              "\n",
              "   Epochs           MSE      MAPE        R2  \n",
              "0     200  1.178571e-07  0.671214  0.445667  "
            ],
            "text/html": [
              "\n",
              "  <div id=\"df-db6e841b-0722-4b76-8c8d-434023d2c0a9\" class=\"colab-df-container\">\n",
              "    <div>\n",
              "<style scoped>\n",
              "    .dataframe tbody tr th:only-of-type {\n",
              "        vertical-align: middle;\n",
              "    }\n",
              "\n",
              "    .dataframe tbody tr th {\n",
              "        vertical-align: top;\n",
              "    }\n",
              "\n",
              "    .dataframe thead th {\n",
              "        text-align: right;\n",
              "    }\n",
              "</style>\n",
              "<table border=\"1\" class=\"dataframe\">\n",
              "  <thead>\n",
              "    <tr style=\"text-align: right;\">\n",
              "      <th></th>\n",
              "      <th>Window Size</th>\n",
              "      <th>Num Blocks</th>\n",
              "      <th>Embed Dim</th>\n",
              "      <th>Num Heads</th>\n",
              "      <th>Learning Rate</th>\n",
              "      <th>Dropout Rate</th>\n",
              "      <th>Value Dim</th>\n",
              "      <th>Attn Dropout</th>\n",
              "      <th>Use Bias</th>\n",
              "      <th>Norm Epsilon</th>\n",
              "      <th>Norm Center</th>\n",
              "      <th>Norm Scale</th>\n",
              "      <th>Epochs</th>\n",
              "      <th>MSE</th>\n",
              "      <th>MAPE</th>\n",
              "      <th>R2</th>\n",
              "    </tr>\n",
              "  </thead>\n",
              "  <tbody>\n",
              "    <tr>\n",
              "      <th>0</th>\n",
              "      <td>4</td>\n",
              "      <td>1</td>\n",
              "      <td>16</td>\n",
              "      <td>1</td>\n",
              "      <td>0.001</td>\n",
              "      <td>0.05</td>\n",
              "      <td>None</td>\n",
              "      <td>0.0</td>\n",
              "      <td>True</td>\n",
              "      <td>0.001</td>\n",
              "      <td>True</td>\n",
              "      <td>True</td>\n",
              "      <td>200</td>\n",
              "      <td>1.178571e-07</td>\n",
              "      <td>0.671214</td>\n",
              "      <td>0.445667</td>\n",
              "    </tr>\n",
              "  </tbody>\n",
              "</table>\n",
              "</div>\n",
              "    <div class=\"colab-df-buttons\">\n",
              "\n",
              "  <div class=\"colab-df-container\">\n",
              "    <button class=\"colab-df-convert\" onclick=\"convertToInteractive('df-db6e841b-0722-4b76-8c8d-434023d2c0a9')\"\n",
              "            title=\"Convert this dataframe to an interactive table.\"\n",
              "            style=\"display:none;\">\n",
              "\n",
              "  <svg xmlns=\"http://www.w3.org/2000/svg\" height=\"24px\" viewBox=\"0 -960 960 960\">\n",
              "    <path d=\"M120-120v-720h720v720H120Zm60-500h600v-160H180v160Zm220 220h160v-160H400v160Zm0 220h160v-160H400v160ZM180-400h160v-160H180v160Zm440 0h160v-160H620v160ZM180-180h160v-160H180v160Zm440 0h160v-160H620v160Z\"/>\n",
              "  </svg>\n",
              "    </button>\n",
              "\n",
              "  <style>\n",
              "    .colab-df-container {\n",
              "      display:flex;\n",
              "      gap: 12px;\n",
              "    }\n",
              "\n",
              "    .colab-df-convert {\n",
              "      background-color: #E8F0FE;\n",
              "      border: none;\n",
              "      border-radius: 50%;\n",
              "      cursor: pointer;\n",
              "      display: none;\n",
              "      fill: #1967D2;\n",
              "      height: 32px;\n",
              "      padding: 0 0 0 0;\n",
              "      width: 32px;\n",
              "    }\n",
              "\n",
              "    .colab-df-convert:hover {\n",
              "      background-color: #E2EBFA;\n",
              "      box-shadow: 0px 1px 2px rgba(60, 64, 67, 0.3), 0px 1px 3px 1px rgba(60, 64, 67, 0.15);\n",
              "      fill: #174EA6;\n",
              "    }\n",
              "\n",
              "    .colab-df-buttons div {\n",
              "      margin-bottom: 4px;\n",
              "    }\n",
              "\n",
              "    [theme=dark] .colab-df-convert {\n",
              "      background-color: #3B4455;\n",
              "      fill: #D2E3FC;\n",
              "    }\n",
              "\n",
              "    [theme=dark] .colab-df-convert:hover {\n",
              "      background-color: #434B5C;\n",
              "      box-shadow: 0px 1px 3px 1px rgba(0, 0, 0, 0.15);\n",
              "      filter: drop-shadow(0px 1px 2px rgba(0, 0, 0, 0.3));\n",
              "      fill: #FFFFFF;\n",
              "    }\n",
              "  </style>\n",
              "\n",
              "    <script>\n",
              "      const buttonEl =\n",
              "        document.querySelector('#df-db6e841b-0722-4b76-8c8d-434023d2c0a9 button.colab-df-convert');\n",
              "      buttonEl.style.display =\n",
              "        google.colab.kernel.accessAllowed ? 'block' : 'none';\n",
              "\n",
              "      async function convertToInteractive(key) {\n",
              "        const element = document.querySelector('#df-db6e841b-0722-4b76-8c8d-434023d2c0a9');\n",
              "        const dataTable =\n",
              "          await google.colab.kernel.invokeFunction('convertToInteractive',\n",
              "                                                    [key], {});\n",
              "        if (!dataTable) return;\n",
              "\n",
              "        const docLinkHtml = 'Like what you see? Visit the ' +\n",
              "          '<a target=\"_blank\" href=https://colab.research.google.com/notebooks/data_table.ipynb>data table notebook</a>'\n",
              "          + ' to learn more about interactive tables.';\n",
              "        element.innerHTML = '';\n",
              "        dataTable['output_type'] = 'display_data';\n",
              "        await google.colab.output.renderOutput(dataTable, element);\n",
              "        const docLink = document.createElement('div');\n",
              "        docLink.innerHTML = docLinkHtml;\n",
              "        element.appendChild(docLink);\n",
              "      }\n",
              "    </script>\n",
              "  </div>\n",
              "\n",
              "\n",
              "  <div id=\"id_33f9f255-0409-4d63-b053-d4c82a729ad6\">\n",
              "    <style>\n",
              "      .colab-df-generate {\n",
              "        background-color: #E8F0FE;\n",
              "        border: none;\n",
              "        border-radius: 50%;\n",
              "        cursor: pointer;\n",
              "        display: none;\n",
              "        fill: #1967D2;\n",
              "        height: 32px;\n",
              "        padding: 0 0 0 0;\n",
              "        width: 32px;\n",
              "      }\n",
              "\n",
              "      .colab-df-generate:hover {\n",
              "        background-color: #E2EBFA;\n",
              "        box-shadow: 0px 1px 2px rgba(60, 64, 67, 0.3), 0px 1px 3px 1px rgba(60, 64, 67, 0.15);\n",
              "        fill: #174EA6;\n",
              "      }\n",
              "\n",
              "      [theme=dark] .colab-df-generate {\n",
              "        background-color: #3B4455;\n",
              "        fill: #D2E3FC;\n",
              "      }\n",
              "\n",
              "      [theme=dark] .colab-df-generate:hover {\n",
              "        background-color: #434B5C;\n",
              "        box-shadow: 0px 1px 3px 1px rgba(0, 0, 0, 0.15);\n",
              "        filter: drop-shadow(0px 1px 2px rgba(0, 0, 0, 0.3));\n",
              "        fill: #FFFFFF;\n",
              "      }\n",
              "    </style>\n",
              "    <button class=\"colab-df-generate\" onclick=\"generateWithVariable('results_df')\"\n",
              "            title=\"Generate code using this dataframe.\"\n",
              "            style=\"display:none;\">\n",
              "\n",
              "  <svg xmlns=\"http://www.w3.org/2000/svg\" height=\"24px\"viewBox=\"0 0 24 24\"\n",
              "       width=\"24px\">\n",
              "    <path d=\"M7,19H8.4L18.45,9,17,7.55,7,17.6ZM5,21V16.75L18.45,3.32a2,2,0,0,1,2.83,0l1.4,1.43a1.91,1.91,0,0,1,.58,1.4,1.91,1.91,0,0,1-.58,1.4L9.25,21ZM18.45,9,17,7.55Zm-12,3A5.31,5.31,0,0,0,4.9,8.1,5.31,5.31,0,0,0,1,6.5,5.31,5.31,0,0,0,4.9,4.9,5.31,5.31,0,0,0,6.5,1,5.31,5.31,0,0,0,8.1,4.9,5.31,5.31,0,0,0,12,6.5,5.46,5.46,0,0,0,6.5,12Z\"/>\n",
              "  </svg>\n",
              "    </button>\n",
              "    <script>\n",
              "      (() => {\n",
              "      const buttonEl =\n",
              "        document.querySelector('#id_33f9f255-0409-4d63-b053-d4c82a729ad6 button.colab-df-generate');\n",
              "      buttonEl.style.display =\n",
              "        google.colab.kernel.accessAllowed ? 'block' : 'none';\n",
              "\n",
              "      buttonEl.onclick = () => {\n",
              "        google.colab.notebook.generateWithVariable('results_df');\n",
              "      }\n",
              "      })();\n",
              "    </script>\n",
              "  </div>\n",
              "\n",
              "    </div>\n",
              "  </div>\n"
            ],
            "application/vnd.google.colaboratory.intrinsic+json": {
              "type": "dataframe",
              "variable_name": "results_df",
              "repr_error": "Out of range float values are not JSON compliant: nan"
            }
          },
          "metadata": {},
          "execution_count": 11
        }
      ]
    },
    {
      "cell_type": "markdown",
      "source": [
        "seed 42, epoch 30:  R2 = 0.445667"
      ],
      "metadata": {
        "id": "O1oV2SmJTdQ_"
      }
    },
    {
      "cell_type": "code",
      "source": [
        "# Save the DataFrame to a CSV file in your Google Drive\n",
        "# results_df.to_csv('/content/drive/MyDrive/Monetize_Project/AdapT-Transformer/results_2.csv', index=False)\n"
      ],
      "metadata": {
        "id": "f1YK_iQW-8Cr"
      },
      "execution_count": null,
      "outputs": []
    },
    {
      "cell_type": "markdown",
      "source": [
        "\\\n",
        "### ☯ **Using Autoformer:**"
      ],
      "metadata": {
        "id": "0WBnMXoiwnHj"
      }
    },
    {
      "cell_type": "markdown",
      "source": [
        "**Note:**  \n",
        "Autoformer fix seed number = 2021 🥶  \n",
        "if you want to change, you need to **edit run.py after install**!!!"
      ],
      "metadata": {
        "id": "cu6a_FD1Z63K"
      }
    },
    {
      "cell_type": "markdown",
      "source": [
        "#### **basic config**\n",
        "    parser.add_argument('--is_training', type=int, required=True, default=1, help='status')\n",
        "    parser.add_argument('--model_id', type=str, required=True, default='test', help='model id')\n",
        "    parser.add_argument('--model', type=str, required=True, default='Autoformer',\n",
        "                        help='model name, options: [Autoformer, Informer, Transformer]')\n",
        "\n",
        "    # data loader\n",
        "    parser.add_argument('--data', type=str, required=True, default='ETTm1', help='dataset type')\n",
        "    parser.add_argument('--root_path', type=str, default='./data/ETT/', help='root path of the data file')\n",
        "    parser.add_argument('--data_path', type=str, default='ETTh1.csv', help='data file')\n",
        "    parser.add_argument('--features', type=str, default='M',\n",
        "                        help='forecasting task, options:[M, S, MS]; M:multivariate predict multivariate, S:univariate predict univariate, MS:multivariate predict univariate')\n",
        "    parser.add_argument('--target', type=str, default='OT', help='target feature in S or MS task')\n",
        "    parser.add_argument('--freq', type=str, default='h',\n",
        "                        help='freq for time features encoding, options:[s:secondly, t:minutely, h:hourly, d:daily, b:business days, w:weekly, m:monthly], you can also use more detailed freq like 15min or 3h')\n",
        "    parser.add_argument('--checkpoints', type=str, default='./checkpoints/', help='location of model checkpoints')\n",
        "\n",
        "    # forecasting task\n",
        "    parser.add_argument('--seq_len', type=int, default=96, help='input sequence length')\n",
        "    parser.add_argument('--label_len', type=int, default=48, help='start token length')\n",
        "    parser.add_argument('--pred_len', type=int, default=96, help='prediction sequence length')\n",
        "\n",
        "    # model define\n",
        "    parser.add_argument('--bucket_size', type=int, default=4, help='for Reformer')\n",
        "    parser.add_argument('--n_hashes', type=int, default=4, help='for Reformer')\n",
        "    parser.add_argument('--enc_in', type=int, default=7, help='encoder input size')\n",
        "    parser.add_argument('--dec_in', type=int, default=7, help='decoder input size')\n",
        "    parser.add_argument('--c_out', type=int, default=7, help='output size')\n",
        "    parser.add_argument('--d_model', type=int, default=512, help='dimension of model')\n",
        "    parser.add_argument('--n_heads', type=int, default=8, help='num of heads')\n",
        "    parser.add_argument('--e_layers', type=int, default=2, help='num of encoder layers')\n",
        "    parser.add_argument('--d_layers', type=int, default=1, help='num of decoder layers')\n",
        "    parser.add_argument('--d_ff', type=int, default=2048, help='dimension of fcn')\n",
        "    parser.add_argument('--moving_avg', type=int, default=25, help='window size of moving average')\n",
        "    parser.add_argument('--factor', type=int, default=1, help='attn factor')\n",
        "    parser.add_argument('--distil', action='store_false',\n",
        "                        help='whether to use distilling in encoder, using this argument means not using distilling',\n",
        "                        default=True)\n",
        "    parser.add_argument('--dropout', type=float, default=0.05, help='dropout')\n",
        "    parser.add_argument('--embed', type=str, default='timeF',\n",
        "                        help='time features encoding, options:[timeF, fixed, learned]')\n",
        "    parser.add_argument('--activation', type=str, default='gelu', help='activation')\n",
        "    parser.add_argument('--output_attention', action='store_true', help='whether to output attention in encoder')\n",
        "    parser.add_argument('--do_predict', action='store_true', help='whether to predict unseen future data')\n",
        "\n",
        "    # optimization\n",
        "    parser.add_argument('--num_workers', type=int, default=10, help='data loader num workers')\n",
        "    parser.add_argument('--itr', type=int, default=2, help='experiments times')\n",
        "    parser.add_argument('--train_epochs', type=int, default=10, help='train epochs')\n",
        "    parser.add_argument('--batch_size', type=int, default=32, help='batch size of train input data')\n",
        "    parser.add_argument('--patience', type=int, default=3, help='early stopping patience')\n",
        "    parser.add_argument('--learning_rate', type=float, default=0.0001, help='optimizer learning rate')\n",
        "    parser.add_argument('--des', type=str, default='test', help='exp description')\n",
        "    parser.add_argument('--loss', type=str, default='mse', help='loss function')\n",
        "    parser.add_argument('--lradj', type=str, default='type1', help='adjust learning rate')\n",
        "    parser.add_argument('--use_amp', action='store_true', help='use automatic mixed precision training', default=False)\n",
        "\n",
        "    # GPU\n",
        "    parser.add_argument('--use_gpu', type=bool, default=True, help='use gpu')\n",
        "    parser.add_argument('--gpu', type=int, default=0, help='gpu')\n",
        "    parser.add_argument('--use_multi_gpu', action='store_true', help='use multiple gpus', default=False)\n",
        "    parser.add_argument('--devices', type=str, default='0,1,2,3', help='device ids of multile gpus')"
      ],
      "metadata": {
        "id": "0QMgXWpTcnUE"
      }
    },
    {
      "cell_type": "markdown",
      "source": [
        "#### ***no year normalize (not good as normalized)***  "
      ],
      "metadata": {
        "id": "uZwSekKAfozR"
      }
    },
    {
      "cell_type": "code",
      "source": [
        "!pip install torch torchvision torchaudio --index-url https://download.pytorch.org/whl/cu118\n",
        "!git clone https://github.com/thuml/Autoformer.git\n",
        "%cd Autoformer\n",
        "\n",
        "!pip install -r requirements.txt"
      ],
      "metadata": {
        "id": "1pmlWRYJ2mou"
      },
      "execution_count": null,
      "outputs": []
    },
    {
      "cell_type": "code",
      "source": [
        "import numpy as np\n",
        "import pandas as pd\n",
        "from sklearn.metrics import mean_squared_error, mean_absolute_error, r2_score\n",
        "import matplotlib.pyplot as plt"
      ],
      "metadata": {
        "id": "-p6E7vZ-gBNJ"
      },
      "execution_count": null,
      "outputs": []
    },
    {
      "cell_type": "code",
      "source": [
        "df = pd.read_csv(\"https://raw.githubusercontent.com/ThammakornS/DataForFun/refs/heads/main/casualties.csv\")  # adjust path if needed\n",
        "df.columns = ['date', 'value']\n",
        "df.to_csv(\"casualties.csv\", index=False)"
      ],
      "metadata": {
        "id": "emwDyeiZ7KNE"
      },
      "execution_count": 5,
      "outputs": []
    },
    {
      "cell_type": "code",
      "source": [
        "# ❗❗❗ May change with newer version\n",
        "\n",
        "file_path = \"/content/Autoformer/utils/tools.py\"\n",
        "\n",
        "with open(file_path, \"r\") as file:\n",
        "    content = file.read()\n",
        "\n",
        "# Replace deprecated np.Inf with float('inf')\n",
        "content = content.replace(\"np.Inf\", \"float('inf')\")\n",
        "\n",
        "with open(file_path, \"w\") as file:\n",
        "    file.write(content)\n",
        "\n",
        "print(\"✅ Fixed np.Inf issue in tools.py\")\n"
      ],
      "metadata": {
        "colab": {
          "base_uri": "https://localhost:8080/"
        },
        "id": "FGbFf9cJCK65",
        "outputId": "c2e37499-f81f-4a02-fb9b-840834b258bd"
      },
      "execution_count": 6,
      "outputs": [
        {
          "output_type": "stream",
          "name": "stdout",
          "text": [
            "✅ Fixed np.Inf issue in tools.py\n"
          ]
        }
      ]
    },
    {
      "cell_type": "code",
      "source": [
        "# ⚡⚡⚡\n",
        "!python -u run.py \\\n",
        "  --is_training 1 \\\n",
        "  --root_path /content/Autoformer \\\n",
        "  --data_path casualties.csv \\\n",
        "  --model_id casualties_96_24 \\\n",
        "  --model Autoformer \\\n",
        "  --data custom \\\n",
        "  --features S \\\n",
        "  --target value \\\n",
        "  --seq_len 96 \\\n",
        "  --label_len 48 \\\n",
        "  --pred_len 24 \\\n",
        "  --n_heads 1\\\n",
        "  --e_layers 4 \\\n",
        "  --d_layers 4 \\\n",
        "  --factor 1 \\\n",
        "  --enc_in 1 \\\n",
        "  --dec_in 1 \\\n",
        "  --c_out 1 \\\n",
        "  --des 'Exp' \\\n",
        "  --itr 1\n",
        "\n",
        "# !python -u run.py \\\n",
        "#   --is_training 1 \\\n",
        "#   --root_path /content/Autoformer \\\n",
        "#   --data_path casualties.csv \\\n",
        "#   --model_id casualties_96_24 \\\n",
        "#   --model Autoformer \\\n",
        "#   --data custom \\\n",
        "#   --features S \\\n",
        "#   --target value \\\n",
        "#   --seq_len 96 \\\n",
        "#   --label_len 48 \\\n",
        "#   --pred_len 24 \\\n",
        "#   --e_layers 2 \\\n",
        "#   --d_layers 1 \\\n",
        "#   --factor 3 \\\n",
        "#   --enc_in 1 \\\n",
        "#   --dec_in 1 \\\n",
        "#   --c_out 1 \\\n",
        "#   --des 'Exp' \\\n",
        "#   --itr 1"
      ],
      "metadata": {
        "colab": {
          "base_uri": "https://localhost:8080/"
        },
        "id": "J6aiosgE7vcR",
        "outputId": "e87f5b95-9938-4696-e9ae-8b8e44a26766"
      },
      "execution_count": 12,
      "outputs": [
        {
          "output_type": "stream",
          "name": "stdout",
          "text": [
            "python3: can't open file '/content/run.py': [Errno 2] No such file or directory\n"
          ]
        }
      ]
    },
    {
      "cell_type": "markdown",
      "source": [
        "#### Result is in: Autoformer/results"
      ],
      "metadata": {
        "id": "-B9Ty03RDwez"
      }
    },
    {
      "cell_type": "code",
      "source": [
        "# Load results\n",
        "metrics = np.load('/content/Autoformer/results/casualties_96_24_Autoformer_custom_ftS_sl96_ll48_pl24_dm512_nh8_el2_dl1_df2048_fc3_ebtimeF_dtTrue_Exp_0/metrics.npy')\n",
        "pred = np.load('/content/Autoformer/results/casualties_96_24_Autoformer_custom_ftS_sl96_ll48_pl24_dm512_nh8_el2_dl1_df2048_fc3_ebtimeF_dtTrue_Exp_0/pred.npy')\n",
        "true = np.load('/content/Autoformer/results/casualties_96_24_Autoformer_custom_ftS_sl96_ll48_pl24_dm512_nh8_el2_dl1_df2048_fc3_ebtimeF_dtTrue_Exp_0/true.npy')\n",
        "\n",
        "# Show metrics\n",
        "print(\"📊 Metrics:\")\n",
        "print(metrics)\n",
        "\n",
        "# Check shape\n",
        "print(f\"\\nShape of predictions: {pred.shape}\")\n",
        "print(f\"Shape of ground truth: {true.shape}\")\n",
        "\n",
        "# Plot a few examples\n",
        "plt.figure(figsize=(12, 4))\n",
        "for i in range(3):  # show 3 samples\n",
        "    plt.subplot(1, 3, i + 1)\n",
        "    plt.plot(true[i], label='True')\n",
        "    plt.plot(pred[i], label='Predicted')\n",
        "    plt.title(f'Sample {i+1}')\n",
        "    plt.legend()\n",
        "\n",
        "plt.tight_layout()\n",
        "plt.show()"
      ],
      "metadata": {
        "colab": {
          "base_uri": "https://localhost:8080/",
          "height": 499
        },
        "id": "YUmhSAyq7vUx",
        "outputId": "b33dfc41-0b06-4bd8-fedc-769f606195c0"
      },
      "execution_count": 13,
      "outputs": [
        {
          "output_type": "stream",
          "name": "stdout",
          "text": [
            "📊 Metrics:\n",
            "[0.5775487  0.5444715  0.73788315 0.15087043 0.03226765]\n",
            "\n",
            "Shape of predictions: (85, 24, 1)\n",
            "Shape of ground truth: (85, 24, 1)\n"
          ]
        },
        {
          "output_type": "display_data",
          "data": {
            "text/plain": [
              "<Figure size 1200x400 with 3 Axes>"
            ],
            "image/png": "[encoded data removed]"
          },
          "metadata": {}
        }
      ]
    },
    {
      "cell_type": "code",
      "source": [
        "pred = np.load('/content/Autoformer/results/casualties_96_24_Autoformer_custom_ftS_sl96_ll48_pl24_dm512_nh8_el2_dl1_df2048_fc3_ebtimeF_dtTrue_Exp_0/pred.npy')\n",
        "true = np.load('/content/Autoformer/results/casualties_96_24_Autoformer_custom_ftS_sl96_ll48_pl24_dm512_nh8_el2_dl1_df2048_fc3_ebtimeF_dtTrue_Exp_0/true.npy')\n",
        "\n",
        "# Flatten to evaluate over the whole test set\n",
        "y_true = true.flatten()\n",
        "y_pred = pred.flatten()\n",
        "\n",
        "# Compute metrics\n",
        "mse = mean_squared_error(y_true, y_pred)\n",
        "mae = mean_absolute_error(y_true, y_pred)\n",
        "mape = np.mean(np.abs((y_true - y_pred) / (y_true + 1e-8))) * 100  # +epsilon to avoid div by zero\n",
        "r2 = r2_score(y_true, y_pred)\n",
        "\n",
        "# Display results\n",
        "print(\"📊 Custom Evaluation Metrics\")\n",
        "print(f\"🔹 MSE  : {mse:.4f}\")\n",
        "print(f\"🔹 MAE  : {mae:.4f}\")\n",
        "print(f\"🔹 MAPE : {mape:.2f}%\")\n",
        "print(f\"🔹 R²   : {r2:.4f}\")"
      ],
      "metadata": {
        "id": "9DNSxmk0CsnL",
        "colab": {
          "base_uri": "https://localhost:8080/"
        },
        "outputId": "3b1876c7-04de-4a32-eb3e-a1d85cbd9bc5"
      },
      "execution_count": 14,
      "outputs": [
        {
          "output_type": "stream",
          "name": "stdout",
          "text": [
            "📊 Custom Evaluation Metrics\n",
            "🔹 MSE  : 0.5445\n",
            "🔹 MAE  : 0.5775\n",
            "🔹 MAPE : 15.09%\n",
            "🔹 R²   : -0.2065\n"
          ]
        }
      ]
    },
    {
      "cell_type": "markdown",
      "source": [
        "\\\n",
        "#### ***year normalize (better)***  "
      ],
      "metadata": {
        "id": "z7VMoINDgPpB"
      }
    },
    {
      "cell_type": "code",
      "source": [
        "!pip install torch torchvision torchaudio --index-url https://download.pytorch.org/whl/cu118\n",
        "!git clone https://github.com/thuml/Autoformer.git\n",
        "%cd Autoformer\n",
        "\n",
        "!pip install -r requirements.txt"
      ],
      "metadata": {
        "id": "HMi9PRElgzly"
      },
      "execution_count": null,
      "outputs": []
    },
    {
      "cell_type": "code",
      "source": [
        "import numpy as np\n",
        "import pandas as pd\n",
        "from sklearn.metrics import mean_squared_error, mean_absolute_error, r2_score\n",
        "import matplotlib.pyplot as plt"
      ],
      "metadata": {
        "id": "3lFGeQA1gzl0"
      },
      "execution_count": 15,
      "outputs": []
    },
    {
      "cell_type": "code",
      "source": [
        "df = pd.read_csv(\"https://raw.githubusercontent.com/ThammakornS/DataForFun/refs/heads/main/casualties_per_month_long_year_norm_add1.csv\")  # adjust path if needed\n",
        "df.columns = ['date', 'value']\n",
        "df.to_csv(\"casualties.csv\", index=False)"
      ],
      "metadata": {
        "id": "joRmXSDagzl0"
      },
      "execution_count": 16,
      "outputs": []
    },
    {
      "cell_type": "code",
      "source": [
        "# ❗❗❗ May change with newer version\n",
        "file_path = \"/content/Autoformer/utils/tools.py\"\n",
        "\n",
        "with open(file_path, \"r\") as file:\n",
        "    content = file.read()\n",
        "\n",
        "# Replace deprecated np.Inf with float('inf')\n",
        "content = content.replace(\"np.Inf\", \"float('inf')\")\n",
        "\n",
        "with open(file_path, \"w\") as file:\n",
        "    file.write(content)\n",
        "\n",
        "print(\"✅ Fixed np.Inf issue in tools.py\")\n"
      ],
      "metadata": {
        "colab": {
          "base_uri": "https://localhost:8080/"
        },
        "outputId": "e9166fd2-4349-4de7-d2b8-bc321b3024a7",
        "id": "TASiicqWgzl0"
      },
      "execution_count": 17,
      "outputs": [
        {
          "output_type": "stream",
          "name": "stdout",
          "text": [
            "✅ Fixed np.Inf issue in tools.py\n"
          ]
        }
      ]
    },
    {
      "cell_type": "code",
      "source": [
        "# ⚡⚡⚡\n",
        "!python -u run.py \\\n",
        "  --is_training 1 \\\n",
        "  --root_path /content/Autoformer \\\n",
        "  --data_path casualties.csv \\\n",
        "  --model_id casualties_96_24 \\\n",
        "  --model Autoformer \\\n",
        "  --data custom \\\n",
        "  --features S \\\n",
        "  --target value \\\n",
        "  --seq_len 96 \\\n",
        "  --label_len 48 \\\n",
        "  --pred_len 24 \\\n",
        "  --n_heads 1\\\n",
        "  --e_layers 4 \\\n",
        "  --d_layers 4 \\\n",
        "  --factor 1 \\\n",
        "  --enc_in 1 \\\n",
        "  --dec_in 1 \\\n",
        "  --c_out 1 \\\n",
        "  --des 'Exp' \\\n",
        "  --itr 1\n"
      ],
      "metadata": {
        "colab": {
          "base_uri": "https://localhost:8080/"
        },
        "id": "VvV34dXYg6F5",
        "outputId": "7a072ed8-07d1-4d59-ce38-a819149c9d6d"
      },
      "execution_count": 18,
      "outputs": [
        {
          "output_type": "stream",
          "name": "stdout",
          "text": [
            "2025-05-12:12:13:47,131 INFO     [utils.py:162] NumExpr defaulting to 2 threads.\n",
            "Args in experiment:\n",
            "Namespace(is_training=1, model_id='casualties_96_24', model='Autoformer', data='custom', root_path='/content/Autoformer', data_path='casualties.csv', features='S', target='value', freq='h', checkpoints='./checkpoints/', seq_len=96, label_len=48, pred_len=24, bucket_size=4, n_hashes=4, enc_in=1, dec_in=1, c_out=1, d_model=512, n_heads=1, e_layers=4, d_layers=4, d_ff=2048, moving_avg=25, factor=1, distil=True, dropout=0.05, embed='timeF', activation='gelu', output_attention=False, do_predict=False, num_workers=10, itr=1, train_epochs=10, batch_size=32, patience=3, learning_rate=0.0001, des='Exp', loss='mse', lradj='type1', use_amp=False, use_gpu=False, gpu=0, use_multi_gpu=False, devices='0,1,2,3')\n",
            "Use CPU\n",
            ">>>>>>>start training : casualties_96_24_Autoformer_custom_ftS_sl96_ll48_pl24_dm512_nh1_el4_dl4_df2048_fc1_ebtimeF_dtTrue_Exp_0>>>>>>>>>>>>>>>>>>>>>>>>>>\n",
            "train 259\n",
            "val 31\n",
            "test 85\n",
            "Epoch: 1 cost time: 129.26413774490356\n",
            "Epoch: 1, Steps: 8 | Train Loss: 2.9666247 Vali Loss: nan Test Loss: 5.6676140\n",
            "Validation loss decreased (inf --> nan).  Saving model ...\n",
            "Updating learning rate to 0.0001\n",
            "Epoch: 2 cost time: 119.01879835128784\n",
            "Epoch: 2, Steps: 8 | Train Loss: 0.9140692 Vali Loss: nan Test Loss: 4.6967468\n",
            "Validation loss decreased (nan --> nan).  Saving model ...\n",
            "Updating learning rate to 5e-05\n",
            "Epoch: 3 cost time: 118.94756507873535\n",
            "Epoch: 3, Steps: 8 | Train Loss: 0.6322058 Vali Loss: nan Test Loss: 4.9355803\n",
            "Validation loss decreased (nan --> nan).  Saving model ...\n",
            "Updating learning rate to 2.5e-05\n",
            "Epoch: 4 cost time: 116.41937351226807\n",
            "Epoch: 4, Steps: 8 | Train Loss: 0.5011535 Vali Loss: nan Test Loss: 3.3866012\n",
            "Validation loss decreased (nan --> nan).  Saving model ...\n",
            "Updating learning rate to 1.25e-05\n",
            "Epoch: 5 cost time: 118.3064534664154\n",
            "Epoch: 5, Steps: 8 | Train Loss: 0.3536325 Vali Loss: nan Test Loss: 3.4415138\n",
            "Validation loss decreased (nan --> nan).  Saving model ...\n",
            "Updating learning rate to 6.25e-06\n",
            "Epoch: 6 cost time: 114.98979139328003\n",
            "Epoch: 6, Steps: 8 | Train Loss: 0.3458148 Vali Loss: nan Test Loss: 3.3574750\n",
            "Validation loss decreased (nan --> nan).  Saving model ...\n",
            "Updating learning rate to 3.125e-06\n",
            "Epoch: 7 cost time: 117.96374416351318\n",
            "Epoch: 7, Steps: 8 | Train Loss: 0.3110149 Vali Loss: nan Test Loss: 3.2355049\n",
            "Validation loss decreased (nan --> nan).  Saving model ...\n",
            "Updating learning rate to 1.5625e-06\n",
            "Epoch: 8 cost time: 115.73287415504456\n",
            "Epoch: 8, Steps: 8 | Train Loss: 0.3104327 Vali Loss: nan Test Loss: 3.1998291\n",
            "Validation loss decreased (nan --> nan).  Saving model ...\n",
            "Updating learning rate to 7.8125e-07\n",
            "Epoch: 9 cost time: 114.88063287734985\n",
            "Epoch: 9, Steps: 8 | Train Loss: 0.3003536 Vali Loss: nan Test Loss: 3.2027500\n",
            "Validation loss decreased (nan --> nan).  Saving model ...\n",
            "Updating learning rate to 3.90625e-07\n",
            "Epoch: 10 cost time: 117.26095843315125\n",
            "Epoch: 10, Steps: 8 | Train Loss: 0.3118291 Vali Loss: nan Test Loss: 3.2141418\n",
            "Validation loss decreased (nan --> nan).  Saving model ...\n",
            "Updating learning rate to 1.953125e-07\n",
            ">>>>>>>testing : casualties_96_24_Autoformer_custom_ftS_sl96_ll48_pl24_dm512_nh1_el4_dl4_df2048_fc1_ebtimeF_dtTrue_Exp_0<<<<<<<<<<<<<<<<<<<<<<<<<<<<<<<<<\n",
            "test 85\n",
            "test shape: (85, 24, 1) (85, 24, 1)\n",
            "test shape: (85, 24, 1) (85, 24, 1)\n",
            "mse:2.9832708835601807, mae:1.1376760005950928\n"
          ]
        }
      ]
    },
    {
      "cell_type": "code",
      "source": [
        "# Load results\n",
        "metrics = np.load('/content/Autoformer/results/casualties_96_24_Autoformer_custom_ftS_sl96_ll48_pl24_dm512_nh8_el2_dl1_df2048_fc3_ebtimeF_dtTrue_Exp_0/metrics.npy')\n",
        "pred = np.load('/content/Autoformer/results/casualties_96_24_Autoformer_custom_ftS_sl96_ll48_pl24_dm512_nh8_el2_dl1_df2048_fc3_ebtimeF_dtTrue_Exp_0/pred.npy')\n",
        "true = np.load('/content/Autoformer/results/casualties_96_24_Autoformer_custom_ftS_sl96_ll48_pl24_dm512_nh8_el2_dl1_df2048_fc3_ebtimeF_dtTrue_Exp_0/true.npy')\n",
        "\n",
        "# Show metrics\n",
        "print(\"📊 Metrics:\")\n",
        "print(metrics)\n",
        "\n",
        "# Check shape\n",
        "print(f\"\\nShape of predictions: {pred.shape}\")\n",
        "print(f\"Shape of ground truth: {true.shape}\")\n",
        "\n",
        "# Plot a few examples\n",
        "plt.figure(figsize=(12, 4))\n",
        "for i in range(3):  # show 3 samples\n",
        "    plt.subplot(1, 3, i + 1)\n",
        "    plt.plot(true[i], label='True')\n",
        "    plt.plot(pred[i], label='Predicted')\n",
        "    plt.title(f'Sample {i+1}')\n",
        "    plt.legend()\n",
        "\n",
        "plt.tight_layout()\n",
        "plt.show()"
      ],
      "metadata": {
        "id": "U0p8pDhpqY1w"
      },
      "execution_count": null,
      "outputs": []
    },
    {
      "cell_type": "code",
      "source": [
        "pred = np.load('/content/Autoformer/results/casualties_96_24_Autoformer_custom_ftS_sl96_ll48_pl24_dm512_nh8_el2_dl1_df2048_fc3_ebtimeF_dtTrue_Exp_0/pred.npy')\n",
        "true = np.load('/content/Autoformer/results/casualties_96_24_Autoformer_custom_ftS_sl96_ll48_pl24_dm512_nh8_el2_dl1_df2048_fc3_ebtimeF_dtTrue_Exp_0/true.npy')\n",
        "\n",
        "# Flatten to evaluate over the whole test set\n",
        "y_true = true.flatten()\n",
        "y_pred = pred.flatten()\n",
        "\n",
        "# Compute metrics\n",
        "mse = mean_squared_error(y_true, y_pred)\n",
        "mae = mean_absolute_error(y_true, y_pred)\n",
        "mape = np.mean(np.abs((y_true - y_pred) / (y_true + 1e-8))) * 100  # +epsilon to avoid div by zero\n",
        "r2 = r2_score(y_true, y_pred)\n",
        "\n",
        "# Display results\n",
        "print(\"📊 Custom Evaluation Metrics\")\n",
        "print(f\"🔹 MSE  : {mse:.4f}\")\n",
        "print(f\"🔹 MAE  : {mae:.4f}\")\n",
        "print(f\"🔹 MAPE : {mape:.2f}%\")\n",
        "print(f\"🔹 R²   : {r2:.4f}\")"
      ],
      "metadata": {
        "id": "m9KrQQEVqb9I"
      },
      "execution_count": null,
      "outputs": []
    },
    {
      "cell_type": "markdown",
      "source": [
        "\\\n",
        "### ☯ **Using PatchTST:**"
      ],
      "metadata": {
        "id": "po0UusJHwsvR"
      }
    },
    {
      "cell_type": "markdown",
      "source": [
        "| **Parameter**                              | **Description**                                                                                                                                                                              |\n",
        "| ------------------------------------------ | -------------------------------------------------------------------------------------------------------------------------------------------------------------------------------------------- |\n",
        "| `input_chunk_length=36`                    | Number of past time steps the model will use as input (look-back window).                                                                                                                    |\n",
        "| `output_chunk_length=12`                   | Number of future time steps the model will forecast (forecast horizon).                                                                                                                      |\n",
        "| `n_epochs=100`                             | Number of full passes over the training dataset during training.                                                                                                                             |\n",
        "| `random_state=42`                          | Ensures reproducibility by setting the seed for random number generators.                                                                                                                    |\n",
        "| `dropout=0.1`                              | Fraction of neurons randomly dropped during training to prevent overfitting. Typical range: 0.0–0.3.                                                                                         |\n",
        "| `batch_size=32`                            | Number of training sequences processed together in one forward/backward pass. Affects memory usage and training stability.                                                                   |\n",
        "| `model_name=\"...\"`                         | Name for the model; used for saving/loading checkpoints and logs.                                                                                                                            |\n",
        "| `save_checkpoints=True`                    | If `True`, the model will save the best-performing weights during training for later reuse or evaluation.                                                                                    |\n",
        "| `pl_trainer_kwargs={\"accelerator\": \"cpu\"}` | Additional configuration passed to the [PyTorch Lightning Trainer](https://lightning.ai/docs/pytorch/stable/common/trainer.html), here specifying to run on CPU. Use `\"gpu\"` if using a GPU. |\n"
      ],
      "metadata": {
        "id": "JABOP2Fxa9aL"
      }
    },
    {
      "cell_type": "markdown",
      "source": [
        "\\\n",
        "\\\n",
        "🧠 Model Architecture Parameters  \n",
        "\n",
        "| **Parameter**        | **Type**        | **Default** | **Description**                                 |\n",
        "| -------------------- | --------------- | ----------- | ----------------------------------------------- |\n",
        "| `d_model`            | `int`           | 64          | Size of embeddings for input/output.            |\n",
        "| `nhead`              | `int`           | 4           | Number of attention heads.                      |\n",
        "| `num_encoder_layers` | `int`           | 3           | Number of encoder layers.                       |\n",
        "| `num_decoder_layers` | `int`           | 3           | Number of decoder layers.                       |\n",
        "| `dim_feedforward`    | `int`           | 512         | Size of the feedforward network.                |\n",
        "| `dropout`            | `float`         | 0.1         | Dropout rate (0 = no dropout).                  |\n",
        "| `activation`         | `str`           | `'relu'`    | Activation function: `'relu'`, `'gelu'`, etc.   |\n",
        "| `norm_type`          | `str or Module` | `None`      | Normalization layer type (e.g., `'LayerNorm'`). |\n",
        "| `custom_encoder`     | `Module`        | `None`      | Replace default encoder with custom one.        |\n",
        "| `custom_decoder`     | `Module`        | `None`      | Replace default decoder with custom one.        |\n"
      ],
      "metadata": {
        "id": "LUa0yDGba9aM"
      }
    },
    {
      "cell_type": "markdown",
      "source": [
        "\\\n",
        "\\\n",
        "🔁 Input/Output Settings  \n",
        "  \n",
        "\n",
        "| **Parameter**         | **Type** | **Default** | **Description**                          |\n",
        "| --------------------- | -------- | ----------- | ---------------------------------------- |\n",
        "| `input_chunk_length`  | `int`    | —           | Number of past time steps used as input. |\n",
        "| `output_chunk_length` | `int`    | —           | Number of future time steps predicted.   |\n"
      ],
      "metadata": {
        "id": "UnyhQg8ja9aN"
      }
    },
    {
      "cell_type": "markdown",
      "source": [
        "\\\n",
        "\\\n",
        "🏋️ Training Settings  \n",
        "  \n",
        "| **Parameter**         | **Type**          | **Default**        | **Description**                                 |\n",
        "| --------------------- | ----------------- | ------------------ | ----------------------------------------------- |\n",
        "| `n_epochs`            | `int`             | 100                | Number of training epochs.                      |\n",
        "| `batch_size`          | `int`             | 32                 | Batch size during training.                     |\n",
        "| `optimizer_cls`       | `torch.Optimizer` | `torch.optim.Adam` | Optimizer class.                                |\n",
        "| `optimizer_kwargs`    | `dict`            | `None`             | Parameters for optimizer (e.g., learning rate). |\n",
        "| `lr_scheduler_cls`    | `torch scheduler` | `None`             | Learning rate scheduler class.                  |\n",
        "| `lr_scheduler_kwargs` | `dict`            | `None`             | Parameters for LR scheduler.                    |\n",
        "| `loss_fn`             | `Callable`        | `MSELoss()`        | Loss function used during training.             |\n",
        "| `torch_metrics`       | `Metric`          | `None`             | TorchMetrics for evaluation.                    |\n",
        "| `sample_weight`       | `TimeSeries/str`  | `None`             | Optional sample weighting.                      |\n"
      ],
      "metadata": {
        "id": "4zp3laxxa9aN"
      }
    },
    {
      "cell_type": "markdown",
      "source": [
        "\\\n",
        "\\\n",
        "📈 Forecasting Features  \n",
        "  \n",
        "| **Parameter**                  | **Type**     | **Default** | **Description**                              |\n",
        "| ------------------------------ | ------------ | ----------- | -------------------------------------------- |\n",
        "| `likelihood`                   | `Likelihood` | `None`      | Adds probabilistic forecasting.              |\n",
        "| `use_reversible_instance_norm` | `bool`       | `False`     | Helps normalize time series during training. |\n"
      ],
      "metadata": {
        "id": "PjZTdAIXa9aN"
      }
    },
    {
      "cell_type": "markdown",
      "source": [
        "\\\n",
        "\\\n",
        "🧰 Utility Parameters\n",
        "  \n",
        "| **Parameter**       | **Type** | **Default** | **Description**                                |\n",
        "| ------------------- | -------- | ----------- | ---------------------------------------------- |\n",
        "| `model_name`        | `str`    | `None`      | Name for saving/loading the model.             |\n",
        "| `save_checkpoints`  | `bool`   | `False`     | Saves best model checkpoint during training.   |\n",
        "| `pl_trainer_kwargs` | `dict`   | `None`      | Extra options for PyTorch Lightning Trainer.   |\n",
        "| `random_state`      | `int`    | `None`      | For reproducibility.                           |\n",
        "| `add_encoders`      | `dict`   | `None`      | Automatically add time or positional encoders. |\n"
      ],
      "metadata": {
        "id": "PUdUvNgWa9aN"
      }
    },
    {
      "cell_type": "markdown",
      "source": [
        "\\\n",
        "\\\n",
        "🔍 Typical Use Cases\n",
        "input_chunk_length and output_chunk_length define the sequence-to-sequence structure of your forecasting task.\n",
        "\n",
        "E.g., “Use the last 36 months to predict the next 12.”\n",
        "\n",
        "dropout helps regularize the Transformer, especially important when the dataset is small or noisy.\n",
        "\n",
        "save_checkpoints=True is great for recovering the best model automatically, especially during longer training.\n",
        "\n",
        "pl_trainer_kwargs gives you fine-grained control over training behavior like device type, early stopping, and logging."
      ],
      "metadata": {
        "id": "fpNWB1sLa9aN"
      }
    },
    {
      "cell_type": "code",
      "source": [
        "!pip install u8darts[torch] --quiet"
      ],
      "metadata": {
        "colab": {
          "base_uri": "https://localhost:8080/"
        },
        "id": "KvN3RaAaw6_5",
        "outputId": "0be06e5f-f372-4545-a3a7-9c48bc5385aa"
      },
      "execution_count": 2,
      "outputs": [
        {
          "output_type": "stream",
          "name": "stdout",
          "text": [
            "\u001b[2K     \u001b[90m━━━━━━━━━━━━━━━━━━━━━━━━━━━━━━━━━━━━━━━━\u001b[0m \u001b[32m57.4/57.4 kB\u001b[0m \u001b[31m2.8 MB/s\u001b[0m eta \u001b[36m0:00:00\u001b[0m\n",
            "\u001b[2K     \u001b[90m━━━━━━━━━━━━━━━━━━━━━━━━━━━━━━━━━━━━━━━━\u001b[0m \u001b[32m46.3/46.3 kB\u001b[0m \u001b[31m2.7 MB/s\u001b[0m eta \u001b[36m0:00:00\u001b[0m\n",
            "\u001b[2K   \u001b[90m━━━━━━━━━━━━━━━━━━━━━━━━━━━━━━━━━━━━━━━━\u001b[0m \u001b[32m200.6/200.6 kB\u001b[0m \u001b[31m9.9 MB/s\u001b[0m eta \u001b[36m0:00:00\u001b[0m\n",
            "\u001b[2K   \u001b[90m━━━━━━━━━━━━━━━━━━━━━━━━━━━━━━━━━━━━━━━━\u001b[0m \u001b[32m823.1/823.1 kB\u001b[0m \u001b[31m30.4 MB/s\u001b[0m eta \u001b[36m0:00:00\u001b[0m\n",
            "\u001b[2K   \u001b[90m━━━━━━━━━━━━━━━━━━━━━━━━━━━━━━━━━━━━━━━━\u001b[0m \u001b[32m354.4/354.4 kB\u001b[0m \u001b[31m22.6 MB/s\u001b[0m eta \u001b[36m0:00:00\u001b[0m\n",
            "\u001b[2K   \u001b[90m━━━━━━━━━━━━━━━━━━━━━━━━━━━━━━━━━━━━━━━━\u001b[0m \u001b[32m101.7/101.7 kB\u001b[0m \u001b[31m7.5 MB/s\u001b[0m eta \u001b[36m0:00:00\u001b[0m\n",
            "\u001b[2K   \u001b[90m━━━━━━━━━━━━━━━━━━━━━━━━━━━━━━━━━━━━━━━━\u001b[0m \u001b[32m363.4/363.4 MB\u001b[0m \u001b[31m1.3 MB/s\u001b[0m eta \u001b[36m0:00:00\u001b[0m\n",
            "\u001b[2K   \u001b[90m━━━━━━━━━━━━━━━━━━━━━━━━━━━━━━━━━━━━━━━━\u001b[0m \u001b[32m13.8/13.8 MB\u001b[0m \u001b[31m22.7 MB/s\u001b[0m eta \u001b[36m0:00:00\u001b[0m\n",
            "\u001b[2K   \u001b[90m━━━━━━━━━━━━━━━━━━━━━━━━━━━━━━━━━━━━━━━━\u001b[0m \u001b[32m24.6/24.6 MB\u001b[0m \u001b[31m17.0 MB/s\u001b[0m eta \u001b[36m0:00:00\u001b[0m\n",
            "\u001b[2K   \u001b[90m━━━━━━━━━━━━━━━━━━━━━━━━━━━━━━━━━━━━━━━━\u001b[0m \u001b[32m883.7/883.7 kB\u001b[0m \u001b[31m19.1 MB/s\u001b[0m eta \u001b[36m0:00:00\u001b[0m\n",
            "\u001b[2K   \u001b[90m━━━━━━━━━━━━━━━━━━━━━━━━━━━━━━━━━━━━━━━━\u001b[0m \u001b[32m664.8/664.8 MB\u001b[0m \u001b[31m1.3 MB/s\u001b[0m eta \u001b[36m0:00:00\u001b[0m\n",
            "\u001b[2K   \u001b[90m━━━━━━━━━━━━━━━━━━━━━━━━━━━━━━━━━━━━━━━━\u001b[0m \u001b[32m211.5/211.5 MB\u001b[0m \u001b[31m4.1 MB/s\u001b[0m eta \u001b[36m0:00:00\u001b[0m\n",
            "\u001b[2K   \u001b[90m━━━━━━━━━━━━━━━━━━━━━━━━━━━━━━━━━━━━━━━━\u001b[0m \u001b[32m56.3/56.3 MB\u001b[0m \u001b[31m10.1 MB/s\u001b[0m eta \u001b[36m0:00:00\u001b[0m\n",
            "\u001b[2K   \u001b[90m━━━━━━━━━━━━━━━━━━━━━━━━━━━━━━━━━━━━━━━━\u001b[0m \u001b[32m127.9/127.9 MB\u001b[0m \u001b[31m7.4 MB/s\u001b[0m eta \u001b[36m0:00:00\u001b[0m\n",
            "\u001b[2K   \u001b[90m━━━━━━━━━━━━━━━━━━━━━━━━━━━━━━━━━━━━━━━━\u001b[0m \u001b[32m207.5/207.5 MB\u001b[0m \u001b[31m2.1 MB/s\u001b[0m eta \u001b[36m0:00:00\u001b[0m\n",
            "\u001b[2K   \u001b[90m━━━━━━━━━━━━━━━━━━━━━━━━━━━━━━━━━━━━━━━━\u001b[0m \u001b[32m21.1/21.1 MB\u001b[0m \u001b[31m70.3 MB/s\u001b[0m eta \u001b[36m0:00:00\u001b[0m\n",
            "\u001b[2K   \u001b[90m━━━━━━━━━━━━━━━━━━━━━━━━━━━━━━━━━━━━━━━━\u001b[0m \u001b[32m1.0/1.0 MB\u001b[0m \u001b[31m43.6 MB/s\u001b[0m eta \u001b[36m0:00:00\u001b[0m\n",
            "\u001b[2K   \u001b[90m━━━━━━━━━━━━━━━━━━━━━━━━━━━━━━━━━━━━━━━━\u001b[0m \u001b[32m285.8/285.8 kB\u001b[0m \u001b[31m19.1 MB/s\u001b[0m eta \u001b[36m0:00:00\u001b[0m\n",
            "\u001b[2K   \u001b[90m━━━━━━━━━━━━━━━━━━━━━━━━━━━━━━━━━━━━━━━━\u001b[0m \u001b[32m278.2/278.2 kB\u001b[0m \u001b[31m20.4 MB/s\u001b[0m eta \u001b[36m0:00:00\u001b[0m\n",
            "\u001b[2K   \u001b[90m━━━━━━━━━━━━━━━━━━━━━━━━━━━━━━━━━━━━━━━━\u001b[0m \u001b[32m961.5/961.5 kB\u001b[0m \u001b[31m39.5 MB/s\u001b[0m eta \u001b[36m0:00:00\u001b[0m\n",
            "\u001b[2K   \u001b[90m━━━━━━━━━━━━━━━━━━━━━━━━━━━━━━━━━━━━━━━━\u001b[0m \u001b[32m42.2/42.2 kB\u001b[0m \u001b[31m2.9 MB/s\u001b[0m eta \u001b[36m0:00:00\u001b[0m\n",
            "\u001b[2K   \u001b[90m━━━━━━━━━━━━━━━━━━━━━━━━━━━━━━━━━━━━━━━━\u001b[0m \u001b[32m62.3/62.3 kB\u001b[0m \u001b[31m4.7 MB/s\u001b[0m eta \u001b[36m0:00:00\u001b[0m\n",
            "\u001b[2K   \u001b[90m━━━━━━━━━━━━━━━━━━━━━━━━━━━━━━━━━━━━━━━━\u001b[0m \u001b[32m135.3/135.3 kB\u001b[0m \u001b[31m10.4 MB/s\u001b[0m eta \u001b[36m0:00:00\u001b[0m\n",
            "\u001b[?25h"
          ]
        }
      ]
    },
    {
      "cell_type": "code",
      "source": [
        "import pandas as pd\n",
        "from darts import TimeSeries\n",
        "from datetime import datetime\n",
        "from darts.models import TransformerModel\n",
        "from darts.dataprocessing.transformers import Scaler\n",
        "from sklearn.metrics import mean_absolute_percentage_error, mean_squared_error, root_mean_squared_error, r2_score\n",
        "\n",
        "# Load the dataset\n",
        "df = pd.read_csv('https://raw.githubusercontent.com/ThammakornS/DataForFun/refs/heads/main/casualties_per_month_long_year_norm_add1.csv')\n",
        "\n",
        "# Combine year and month into a single datetime column\n",
        "df['date'] = pd.to_datetime(df['date'])\n",
        "df = df.sort_values('date')\n",
        "\n",
        "# Create a TimeSeries object (univariate)\n",
        "series = TimeSeries.from_dataframe(df, 'date', 'value')\n",
        "\n",
        "# Total length\n",
        "n_total = len(series)\n",
        "n_test = 12\n",
        "n_val = 12\n",
        "\n",
        "train = series[:n_total - n_test - n_val]\n",
        "val = series[n_total - n_test - n_val: n_total - n_test]\n",
        "test = series[-n_test:]\n",
        "\n",
        "# Normalize based on training set\n",
        "scaler = Scaler()\n",
        "train_scaled = scaler.fit_transform(train)\n",
        "val_scaled = scaler.transform(val)\n",
        "test_scaled = scaler.transform(test)\n",
        "# train_scaled = train\n",
        "# val_scaled = val\n",
        "# test_scaled = test\n",
        "\n",
        "\n",
        "# Initialize the Transformer model\n",
        "model = TransformerModel(\n",
        "    input_chunk_length=18,\n",
        "    output_chunk_length=4,\n",
        "    nhead = 1,\n",
        "    num_encoder_layers = 4,\n",
        "    num_decoder_layers = 6,\n",
        "    d_model = 64,\n",
        "    dim_feedforward = 64,\n",
        "    dropout = 0.01,\n",
        "    n_epochs=200,\n",
        "    random_state=42, # 👈 set seed here\n",
        "    batch_size=12,\n",
        "    model_name=\"car_accident_transformer_16\",\n",
        "    save_checkpoints=True,\n",
        "    pl_trainer_kwargs={\"accelerator\": \"cpu\"},\n",
        ")\n",
        "# model = TransformerModel(\n",
        "#     input_chunk_length=36,\n",
        "#     output_chunk_length=12,\n",
        "#     n_epochs=35,\n",
        "#     random_state=42,\n",
        "#     dropout=0.01,\n",
        "#     batch_size=12,\n",
        "#     model_name=\"car_accident_transformer_3\",\n",
        "#     save_checkpoints=True,\n",
        "#     pl_trainer_kwargs={\"accelerator\": \"cpu\"},\n",
        "# )\n",
        "\n",
        "\n",
        "# Fit on training set\n",
        "model.fit(train_scaled, verbose=True)\n",
        "\n",
        "# Predict the test set\n",
        "forecast_scaled = model.predict(n=n_test)\n",
        "\n",
        "# Inverse transform forecast and actual\n",
        "forecast = scaler.inverse_transform(forecast_scaled)\n",
        "test_actual = scaler.inverse_transform(test_scaled)\n",
        "# forecast = forecast_scaled\n",
        "# test_actual = test_scaled\n",
        "\n",
        "# Plot results\n",
        "series[-60:].plot(label=\"Actual\")\n",
        "forecast.plot(label=\"Forecast (Test)\")\n",
        "\n",
        "\n"
      ],
      "metadata": {
        "colab": {
          "base_uri": "https://localhost:8080/",
          "height": 1000,
          "referenced_widgets": [
            "9cdf5a1c596441289c08d02e484d5bc6",
            "14f74741c7f74a4e94c9a15f0b04d6e8",
            "d72aba683e3a46529215922b0ef6f714",
            "28cc1091ca594127b79c89628e1dab46",
            "9dd6be0be1184f72bd69a9129fc5e7bb",
            "bcb876c70b104dd6ac913a3d91aad9d0",
            "7af91099132a4de3aac47801b4885231",
            "a3a5329c2596420fb0274b2f52491b43",
            "90ef513e779a4fc298c58a1d3e8397c2",
            "68a752b6fdc149c3bc55370c93efd0e4",
            "8c983d0309d34ffc81350487e577c8ae",
            "fd1de890d78e46bba63fadd7069a9696",
            "7c1fa2a6db894c53a2f79378229e47c5",
            "0e3aab22e7624744b901ba07541f4842",
            "d3200e6524244219affc80199860d219",
            "b34e829df43945cf98248065b562d062",
            "b46407d5eaee4d60ab4748f2e0202208",
            "a87b2954accf44778d7331b203e502b5",
            "e04308308b984796a97c4bb6b490eaaf",
            "e3cef32993ed492eb4f3fbb8db431247",
            "ae92e4e830f84980b22730affdff582c",
            "b6f6153fd4b64c4790b0c967852036c4"
          ]
        },
        "id": "CeHSwpXJwxvJ",
        "outputId": "549c3651-8ccb-4212-de66-ba240782c04e"
      },
      "execution_count": 50,
      "outputs": [
        {
          "output_type": "stream",
          "name": "stderr",
          "text": [
            "/usr/local/lib/python3.11/dist-packages/torch/nn/modules/transformer.py:385: UserWarning: enable_nested_tensor is True, but self.use_nested_tensor is False because encoder_layer.self_attn.batch_first was not True(use batch_first for better inference performance)\n",
            "  warnings.warn(\n",
            "INFO:pytorch_lightning.utilities.rank_zero:GPU available: False, used: False\n",
            "INFO:pytorch_lightning.utilities.rank_zero:TPU available: False, using: 0 TPU cores\n",
            "INFO:pytorch_lightning.utilities.rank_zero:HPU available: False, using: 0 HPUs\n",
            "INFO:pytorch_lightning.callbacks.model_summary:\n",
            "  | Name                | Type                | Params | Mode \n",
            "--------------------------------------------------------------------\n",
            "0 | criterion           | MSELoss             | 0      | train\n",
            "1 | train_criterion     | MSELoss             | 0      | train\n",
            "2 | val_criterion       | MSELoss             | 0      | train\n",
            "3 | train_metrics       | MetricCollection    | 0      | train\n",
            "4 | val_metrics         | MetricCollection    | 0      | train\n",
            "5 | encoder             | Linear              | 128    | train\n",
            "6 | positional_encoding | _PositionalEncoding | 0      | train\n",
            "7 | transformer         | Transformer         | 353 K  | train\n",
            "8 | decoder             | Linear              | 260    | train\n",
            "--------------------------------------------------------------------\n",
            "353 K     Trainable params\n",
            "0         Non-trainable params\n",
            "353 K     Total params\n",
            "1.414     Total estimated model params size (MB)\n",
            "140       Modules in train mode\n",
            "0         Modules in eval mode\n"
          ]
        },
        {
          "output_type": "display_data",
          "data": {
            "text/plain": [
              "Training: |          | 0/? [00:00<?, ?it/s]"
            ],
            "application/vnd.jupyter.widget-view+json": {
              "version_major": 2,
              "version_minor": 0,
              "model_id": "9cdf5a1c596441289c08d02e484d5bc6"
            }
          },
          "metadata": {}
        },
        {
          "output_type": "stream",
          "name": "stderr",
          "text": [
            "INFO:pytorch_lightning.utilities.rank_zero:`Trainer.fit` stopped: `max_epochs=200` reached.\n",
            "INFO:pytorch_lightning.utilities.rank_zero:GPU available: False, used: False\n",
            "INFO:pytorch_lightning.utilities.rank_zero:TPU available: False, using: 0 TPU cores\n",
            "INFO:pytorch_lightning.utilities.rank_zero:HPU available: False, using: 0 HPUs\n"
          ]
        },
        {
          "output_type": "display_data",
          "data": {
            "text/plain": [
              "Predicting: |          | 0/? [00:00<?, ?it/s]"
            ],
            "application/vnd.jupyter.widget-view+json": {
              "version_major": 2,
              "version_minor": 0,
              "model_id": "fd1de890d78e46bba63fadd7069a9696"
            }
          },
          "metadata": {}
        },
        {
          "output_type": "execute_result",
          "data": {
            "text/plain": [
              "<Axes: xlabel='date'>"
            ]
          },
          "metadata": {},
          "execution_count": 50
        },
        {
          "output_type": "display_data",
          "data": {
            "text/plain": [
              "<Figure size 640x480 with 1 Axes>"
            ],
            "image/png": "[encoded data removed]"
          },
          "metadata": {}
        }
      ]
    },
    {
      "cell_type": "code",
      "source": [
        "y_true = test_actual.values().flatten()\n",
        "y_pred = forecast.values().flatten()\n",
        "\n",
        "from sklearn.metrics import mean_absolute_percentage_error, mean_squared_error, root_mean_squared_error, r2_score\n",
        "mape= mean_absolute_percentage_error(y_true, y_pred)\n",
        "mse = mean_squared_error(y_true, y_pred)\n",
        "rmse = root_mean_squared_error(y_true, y_pred)\n",
        "r2 = r2_score(y_true, y_pred)\n",
        "print(\"MAPE:\", mape)\n",
        "print(\"MSE:\", mse)\n",
        "print(\"RMSE:\", rmse)\n",
        "print(\"R²:\", r2)"
      ],
      "metadata": {
        "colab": {
          "base_uri": "https://localhost:8080/"
        },
        "id": "dnzM87RjESYh",
        "outputId": "28d47f5e-c038-41a5-c495-8b1e6f1f6c60"
      },
      "execution_count": 51,
      "outputs": [
        {
          "output_type": "stream",
          "name": "stdout",
          "text": [
            "MAPE: 0.04724189032681531\n",
            "MSE: 0.22367536816785108\n",
            "RMSE: 0.4729433033333394\n",
            "R²: 0.39358078543412134\n"
          ]
        }
      ]
    },
    {
      "cell_type": "markdown",
      "source": [
        "8,4  \n",
        "MAPE: 0.05956847304064378  \n",
        "MSE: 0.3390344462352001  \n",
        "RMSE: 0.5822666453053963  \n",
        "R²: 0.08082412345715695  "
      ],
      "metadata": {
        "id": "E21hWvKdqEju"
      }
    },
    {
      "cell_type": "markdown",
      "source": [
        "12,4  \n",
        "MAPE: 0.054753957987916796  \n",
        "MSE: 0.25020441683434513  \n",
        "RMSE: 0.5002043750651779  \n",
        "R²: 0.3216563487503167  "
      ],
      "metadata": {
        "id": "aQqvYX8Lqa31"
      }
    },
    {
      "cell_type": "markdown",
      "source": [
        "18,4 d_model = 16    \n",
        "MAPE: 0.036803742134719736  \n",
        "MSE: 0.12023644831166909  \n",
        "RMSE: 0.346751277303587  \n",
        "R²: 0.6740200177400082  "
      ],
      "metadata": {
        "id": "FW4ZUHbDqtQO"
      }
    },
    {
      "cell_type": "markdown",
      "source": [
        "24,4  \n",
        "MAPE: 0.06138599270910611  \n",
        "MSE: 0.37132791141655397  \n",
        "RMSE: 0.6093668118765199  \n",
        "R²: -0.006728555907123068  "
      ],
      "metadata": {
        "id": "_g4tWK1OrLRF"
      }
    },
    {
      "cell_type": "markdown",
      "source": [
        "18,4 d_model = 8    \n",
        "MAPE: 0.06398132356930468  \n",
        "MSE: 0.45950729616940533  \n",
        "RMSE: 0.6778696749150277  \n",
        "R²: -0.2457967809009396  "
      ],
      "metadata": {
        "id": "1eF6qRqfrjHN"
      }
    },
    {
      "cell_type": "markdown",
      "source": [
        "18,4 d_model = 64 num_encoder_layers = 4 num_decoder_layers = 4  \n",
        "MAPE: 0.0467800999163078  \n",
        "MSE: 0.23562299841387016  \n",
        "RMSE: 0.4854101342307041  \n",
        "R²: 0.36118887474202666  "
      ],
      "metadata": {
        "id": "793sWOFjxK9D"
      }
    },
    {
      "cell_type": "markdown",
      "source": [
        "18,4 dim_feedforward = 96  \n",
        "MAPE: 0.05495544210379901  \n",
        "MSE: 0.2967572874529798  \n",
        "RMSE: 0.5447543367913465  \n",
        "R²: 0.19544417139892167 แต่กราฟดูดีนะ"
      ],
      "metadata": {
        "id": "596FnRHL0hxd"
      }
    },
    {
      "cell_type": "markdown",
      "source": [
        "18,4 d_model = 96  \n",
        "MAPE: 0.06044816954046763  \n",
        "MSE: 0.34954322844133373  \n",
        "RMSE: 0.5912218098491747  \n",
        "R²: 0.05233315682239903  "
      ],
      "metadata": {
        "id": "Bc82Yn4j1buT"
      }
    },
    {
      "cell_type": "markdown",
      "source": [
        "18,4 d_model = 64 Epoch = 50    \n",
        "MAPE: 0.048157399824673736  \n",
        "MSE: 0.28446159747698524  \n",
        "RMSE: 0.5333494140589125  \n",
        "R²: 0.22877972693578685 แต่กราฟสวย   "
      ],
      "metadata": {
        "id": "V079jlB12koa"
      }
    },
    {
      "cell_type": "markdown",
      "source": [
        "18,4 d_model = 64 Epoch = 50 num_encoder_layers = 6 num_decoder_layers = 4   \n",
        "MAPE: 0.04875072173710782  \n",
        "MSE: 0.2570477107504237  \n",
        "RMSE: 0.5069987285491194  \n",
        "R²: 0.3031030992100382  "
      ],
      "metadata": {
        "id": "Rt_ORQPi3mKK"
      }
    },
    {
      "cell_type": "markdown",
      "source": [
        "18,4 d_model = 64 Epoch = 50 num_encoder_layers = 2 num_decoder_layers = 4  \n",
        "MAPE: 0.06481353629168989  \n",
        "MSE: 0.39184541040687887  \n",
        "RMSE: 0.6259755669408182  \n",
        "R²: -0.062354732917513145  "
      ],
      "metadata": {
        "id": "JnSOUf_S5l7_"
      }
    },
    {
      "cell_type": "markdown",
      "source": [
        "18,4 d_model = 64 Epoch = 50 num_encoder_layers = 4 num_decoder_layers = 6  \n",
        "MAPE: 0.04311242369738349  \n",
        "MSE: 0.2201454041116588  \n",
        "RMSE: 0.46919655168346963  \n",
        "R²: 0.4031510749476074   "
      ],
      "metadata": {
        "id": "yHQzIyMi6ekX"
      }
    },
    {
      "cell_type": "markdown",
      "source": [
        "18,4 d_model = 64 Epoch = 50 num_encoder_layers = 6 num_decoder_layers = 6   \n",
        "MAPE: 0.05590758285661756  \n",
        "MSE: 0.3741388155659695  \n",
        "RMSE: 0.6116688773887139  \n",
        "R²: -0.014349360560183433  "
      ],
      "metadata": {
        "id": "Ed-Okon57aAP"
      }
    },
    {
      "cell_type": "markdown",
      "source": [
        "18,4 d_model = 64 Epoch = 50 num_encoder_layers = 6 num_decoder_layers = 8  \n",
        "MAPE: 0.062271766633616325  \n",
        "MSE: 0.5428984181014078  \n",
        "RMSE: 0.7368164073237022  \n",
        "R²: -0.4718832698961135  "
      ],
      "metadata": {
        "id": "gu9PjLNPCVr6"
      }
    },
    {
      "cell_type": "code",
      "source": [],
      "metadata": {
        "id": "9OJ80hC75lCX"
      },
      "execution_count": null,
      "outputs": []
    },
    {
      "cell_type": "code",
      "source": [],
      "metadata": {
        "id": "Oam-OhA3J2p2"
      },
      "execution_count": null,
      "outputs": []
    }
  ]
}